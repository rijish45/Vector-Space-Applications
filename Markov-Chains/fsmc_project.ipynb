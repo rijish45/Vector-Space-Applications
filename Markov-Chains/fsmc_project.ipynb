{
 "cells": [
  {
   "cell_type": "markdown",
   "metadata": {
    "colab_type": "text",
    "id": "usCttVkykran"
   },
   "source": [
    "Try to implement the functions in fsmc_code.py and complete lines with \"###\""
   ]
  },
  {
   "cell_type": "code",
   "execution_count": 1,
   "metadata": {
    "ExecuteTime": {
     "end_time": "2019-10-21T17:40:05.859675Z",
     "start_time": "2019-10-21T17:40:05.096849Z"
    },
    "colab": {},
    "colab_type": "code",
    "id": "nRhUCVs5krap"
   },
   "outputs": [],
   "source": [
    "import numpy as np\n",
    "import nbconvert\n",
    "import matplotlib.pyplot as plt\n",
    "import matplotlib as mpl\n",
    "mpl.rcParams['text.usetex'] = True\n",
    "mpl.rcParams['text.latex.preamble'] = [r'\\usepackage{amsfonts}']\n",
    "%matplotlib inline"
   ]
  },
  {
   "cell_type": "markdown",
   "metadata": {
    "colab_type": "text",
    "id": "wR4k2PLfkrar"
   },
   "source": [
    "### Exercise 2.1"
   ]
  },
  {
   "cell_type": "markdown",
   "metadata": {
    "colab_type": "text",
    "id": "GJY7t9Elkras"
   },
   "source": [
    "What is the distribution of the number of fair coin tosses before one observes 3 heads in a row? To solve this, consider a 4-state Markov chain with transition probability matrix\n",
    "$$\n",
    "    P = \n",
    "    \\begin{bmatrix}\n",
    "        0.5 & 0.5 & 0 & 0 \\\\\n",
    "        0.5 & 0 & 0.5 & 0 \\\\\n",
    "        0.5 & 0 & 0 & 0.5 \\\\\n",
    "        0 & 0 & 0 & 1\n",
    "    \\end{bmatrix}\n",
    "$$\n",
    "where $ X_t = 1 $ if the previous toss was tails, $ X_t = 2 $ if the last two tosses were tails then heads, $ X_t = 3 $ if the last three tosses were tails then heads twice, and $ X_t = 4 $ is an absorbing state that is reached when the last three tosses are heads. "
   ]
  },
  {
   "cell_type": "markdown",
   "metadata": {
    "colab_type": "text",
    "id": "WaGXZhEwkrat"
   },
   "source": [
    "* Write a computer program (e.g., in Python) to compute $ \\Pr(T_{1,4} = m) $ for $ m = 1, 2, \\ldots, 100 $ and use this to estimate expected number of tosses $ \\mathbb{E}[T_{1,4}] $. "
   ]
  },
  {
   "cell_type": "code",
   "execution_count": 4,
   "metadata": {
    "ExecuteTime": {
     "end_time": "2019-10-21T17:41:08.322310Z",
     "start_time": "2019-10-21T17:41:06.549977Z"
    },
    "colab": {},
    "colab_type": "code",
    "id": "nhLLPgCEkrau",
    "scrolled": false
   },
   "outputs": [
    {
     "data": {
      "text/plain": [
       "Text(0.5, 1.0, '$\\\\mathbb{E}[T_{1,4}] = 13.972692578968473 $')"
      ]
     },
     "execution_count": 4,
     "metadata": {},
     "output_type": "execute_result"
    },
    {
     "data": {
      "image/png": "[encoded data removed]",
      "text/plain": [
       "<Figure size 720x432 with 1 Axes>"
      ]
     },
     "metadata": {
      "needs_background": "light"
     },
     "output_type": "display_data"
    }
   ],
   "source": [
    "#See compute_Phi_ET in fsmc_code.py\n",
    "def compute_Phi_ET(P, ns=100):\n",
    "    '''\n",
    "    Arguments:\n",
    "        P {numpy.array} -- n x n, transition matrix of the Markov chain\n",
    "        ns {int} -- largest step to consider\n",
    "\n",
    "    Returns:\n",
    "        Phi_list {numpy.array} -- (ns + 1) x n x n, the Phi matrix for time 0, 1, ...,ns\n",
    "        ET {numpy.array} -- n x n, expectedd hitting time approxiamated up to step ns\n",
    "    '''\n",
    "    Phi_list = np.zeros([ns+1,P.shape[0],P.shape[1]])\n",
    "    Phi_list[0] = P\n",
    "    for i in range(1,ns+1):\n",
    "        Phi_list[i] = np.matmul(P, Phi_list[i-1])\n",
    "    ET = np.zeros(P.shape)\n",
    "    for i in range(1,ns+1):\n",
    "        ET += (i+1)*(Phi_list[i] - Phi_list[i-1])\n",
    "    return Phi_list, ET\n",
    "\n",
    "P = np.array([[0.5, 0.5, 0, 0], [0.5, 0, 0.5, 0], [0.5, 0, 0, 0.5], [0, 0, 0, 1]])  \n",
    "Phi_list, ET = compute_Phi_ET(P, 100)\n",
    "\n",
    "m = np.arange(1,101) ### steps to be plotted\n",
    "Pr = Phi_list[m,0,3] - Phi_list[m-1,0,3] ### \\Pr(T_{1,4} = m) for all m\n",
    "E = ET[0,3] ### \\mathbb{E}[T_{1,4}]\n",
    "\n",
    "plt.figure(figsize=(10, 6))\n",
    "plt.stem(m, Pr, use_line_collection= True)\n",
    "plt.xlabel(r'$m$')\n",
    "plt.ylabel(r'$\\Pr(T_{1,4}=m)$')\n",
    "plt.title(r'$\\mathbb{E}[T_{1,4}] = ' + str(E) + ' $')"
   ]
  },
  {
   "cell_type": "markdown",
   "metadata": {
    "colab_type": "text",
    "id": "CKdEpYL_kraw"
   },
   "source": [
    "* Write a computer program that generates 500 realizations from this Markov chain and uses them to plots a histogram of $ T_{1,4} $."
   ]
  },
  {
   "cell_type": "code",
   "execution_count": 5,
   "metadata": {
    "ExecuteTime": {
     "end_time": "2019-10-21T17:41:23.096494Z",
     "start_time": "2019-10-21T17:41:21.948674Z"
    },
    "colab": {},
    "colab_type": "code",
    "id": "-Wm6FuHlkrax"
   },
   "outputs": [
    {
     "data": {
      "text/plain": [
       "Text(0.5, 1.0, 'mean of $ T_{1,4} = ~ $14.21')"
      ]
     },
     "execution_count": 5,
     "metadata": {},
     "output_type": "execute_result"
    },
    {
     "data": {
      "image/png": "[encoded data removed]",
      "text/plain": [
       "<Figure size 720x432 with 1 Axes>"
      ]
     },
     "metadata": {
      "needs_background": "light"
     },
     "output_type": "display_data"
    }
   ],
   "source": [
    "# implement simulate_hitting_time(P, states, nr) in fsmc_code.py\n",
    "\n",
    "def vector(index, m):\n",
    "    m = np.zeros(m.size)\n",
    "    m[index] = 1\n",
    "    return m\n",
    "\n",
    "# General function to simulate hitting time for Exercise 2.1\n",
    "def simulate_hitting_time(P, states, nr):\n",
    "    '''\n",
    "    Arguments:\n",
    "        P {numpy.array} -- n x n, transition matrix of the Markov chain\n",
    "        states {list[int]} -- the list [start state, end state], index starts from 0\n",
    "        nr {int} -- largest step to consider\n",
    "\n",
    "    Returns:\n",
    "        T {list[int]} -- a size nr list contains the hitting time of all realizations\n",
    "    '''\n",
    "    # Add code here to simulate following quantities:\n",
    "    # T[i] = hitting time of the i-th run (i.e., realization) of process\n",
    "    # Notice in python the index starts from 0\n",
    "    start, end = states\n",
    "    if start == end: return [0] * nr\n",
    "    T = np.zeros(nr)\n",
    "    for k in range(nr):\n",
    "        curr_state = start\n",
    "        step = 0\n",
    "        next_state = start\n",
    "        q = np.zeros(P.shape[0]) \n",
    "        while(curr_state != end):\n",
    "            i = 0\n",
    "            u = np.random.random_sample()\n",
    "            curr_vec = vector(curr_state,q)\n",
    "            cdf_vec = np.cumsum(np.matmul(curr_vec, P))\n",
    "            if(u < cdf_vec[0]):\n",
    "                next_state = 0\n",
    "            while(u >= cdf_vec[i]):\n",
    "                if(u < cdf_vec[i+1]):\n",
    "                    next_state = i+1\n",
    "                i += 1\n",
    "            step = step + 1\n",
    "            curr_state = next_state\n",
    "        T[k] = step\n",
    "    return T\n",
    "\n",
    "T = simulate_hitting_time(P, [0, 3], 500)\n",
    "plt.figure(figsize=(10, 6))\n",
    "plt.hist(T, bins=np.arange(max(T))-0.5)\n",
    "plt.title(r'mean of $ T_{1,4} = ~ $' + str(np.mean(T)))"
   ]
  },
  {
   "cell_type": "markdown",
   "metadata": {
    "colab_type": "text",
    "id": "ubN45VmBkraz"
   },
   "source": [
    "### Exercise 2.2"
   ]
  },
  {
   "cell_type": "markdown",
   "metadata": {
    "colab_type": "text",
    "id": "zvG61B86kraz"
   },
   "source": [
    "Consider the miniature chutes and ladders game shown in Figure 1. \n",
    "Assume a player starts on the space labeled 1 and plays by rolling a fair four-sided die and then moves that number of spaces. \n",
    "If a player lands on the bottom of a ladder, then they automatically climb to the top. \n",
    "If a player lands at the top of a slide, then they automatically slide to the bottom. \n",
    "This process can be modeled by a Markov chain with $ n = 16 $ states where each state is associated with a square where players can start their turn (e.g., players never start at the bottom of a ladder or the top of a slide). \n",
    "To finish the game, players must land exactly on space 20 (moves beyond this are not taken). "
   ]
  },
  {
   "cell_type": "markdown",
   "metadata": {
    "colab_type": "text",
    "deletable": false,
    "editable": false,
    "id": "MuFXlOGJkra0",
    "run_control": {
     "frozen": true
    }
   },
   "source": [
    "* Compute the transition probability matrix $ P $ of the implied Markov chain. "
   ]
  },
  {
   "cell_type": "code",
   "execution_count": 6,
   "metadata": {
    "ExecuteTime": {
     "end_time": "2019-10-21T17:41:29.896923Z",
     "start_time": "2019-10-21T17:41:29.433890Z"
    },
    "colab": {},
    "colab_type": "code",
    "id": "WKlxCtockra1"
   },
   "outputs": [
    {
     "data": {
      "text/plain": [
       "<matplotlib.image.AxesImage at 0x10b64ada0>"
      ]
     },
     "execution_count": 6,
     "metadata": {},
     "output_type": "execute_result"
    },
    {
     "data": {
      "image/png": "[encoded data removed]",
      "text/plain": [
       "<Figure size 576x576 with 1 Axes>"
      ]
     },
     "metadata": {
      "needs_background": "light"
     },
     "output_type": "display_data"
    }
   ],
   "source": [
    "# You can either do this by hand (e.g., look at picture and write down matrix) or by automating the process.\n",
    "\n",
    "# By hand\n",
    "#P = np.asarray([[...],[...],[...],...])\n",
    "# Or automated general function for Chutes and Ladders games\n",
    "def construct_P_matrix(n, dice, chutes, ladders):\n",
    "    '''\n",
    "    Arguments:\n",
    "        n {int} -- size of the state space\n",
    "        dice {numpy.array} -- probability distribution of the dice outcome\n",
    "        chutes {list[(int, int)]} -- the list of chutes, in pairs of (start, end)\n",
    "        ladders {list[(int, int)]} -- the list of ladders, in pairs of (start, end)\n",
    "\n",
    "    Returns:\n",
    "        P {numpy.array} -- n x n, transition matrix of the Markov chain\n",
    "    '''\n",
    "\n",
    "    # Add code here to build matrix\n",
    "    c = len(chutes)\n",
    "    l = len(ladders)\n",
    "    P = np.zeros((n+c+l,n+c+l))\n",
    "    for i in range (n+c+l):\n",
    "            if(i+len(dice) < n+c+l):\n",
    "                P[i,i+1:i+len(dice)+1] = dice\n",
    "            else:\n",
    "                P[i,i+1:n+c+l] = dice[0:(n+c+l-i-1)]\n",
    "                P[i,i] = 1 - sum(dice[0:(n+c+l-i-1)])\n",
    "    delete_row = [0]*(l+c)\n",
    "    for i in range(c):\n",
    "        P[:,chutes[i][1]-1] += P[:,chutes[i][0]-1]\n",
    "        delete_row[i] = chutes[i][0]-1\n",
    "    for i in range(l):\n",
    "        P[:,ladders[i][1]-1] += P[:,ladders[i][0]-1]\n",
    "        delete_row[i+c] = ladders[i][0]-1\n",
    "\n",
    "    P = np.delete(P,delete_row,0)\n",
    "    P = np.delete(P,delete_row,1)\n",
    "    P[n-1,n-1] = 1\n",
    "    return P\n",
    "\n",
    "\n",
    "n = 16 ### number of states\n",
    "dice = np.array([0.25,0.25,0.25,0.25]) ### probability distribution of dice\n",
    "chutes = [(13,2), (17,6)] ### (sorce, destination) pairs of chutes\n",
    "ladders = [(4,8),(14,19)] ### (sorce, destination) pairs of ladders\n",
    "P = construct_P_matrix(n, dice, chutes, ladders)\n",
    "\n",
    "# Plot transition matrix\n",
    "plt.figure(figsize=(8, 8))\n",
    "plt.imshow(P)"
   ]
  },
  {
   "cell_type": "markdown",
   "metadata": {
    "colab_type": "text",
    "id": "mljiZTzBkra2"
   },
   "source": [
    "* For this Markov chain, write a computer program (e.g., in Python) to compute the cumulative distribution of the number turns a player takes to finish (i.e., the probability $ \\Pr(T_{1, 20} \\le m) $ where $ T_{1, 20} $ is the hitting time from state 1 to state 20).\n"
   ]
  },
  {
   "cell_type": "code",
   "execution_count": 8,
   "metadata": {
    "ExecuteTime": {
     "end_time": "2019-10-21T17:41:46.208405Z",
     "start_time": "2019-10-21T17:41:45.838735Z"
    },
    "colab": {},
    "colab_type": "code",
    "id": "ndLOj9mZkra3"
   },
   "outputs": [
    {
     "data": {
      "image/png": "[encoded data removed]",
      "text/plain": [
       "<Figure size 720x432 with 1 Axes>"
      ]
     },
     "metadata": {
      "needs_background": "light"
     },
     "output_type": "display_data"
    }
   ],
   "source": [
    "# Use previous functions to complete this exercise\n",
    "Phi_list, ET = compute_Phi_ET(P, ns=100)\n",
    "m = np.arange(1,101) ### steps to be plotted\n",
    "Pr = Phi_list[m,0,15] ### \\Pr(T_{1,4} = m) for all m\n",
    "E = ET[0,15]\n",
    "plt.figure(figsize=(10, 6))\n",
    "plt.plot(m ,Pr)\n",
    "plt.xlabel(r'$ m $')\n",
    "plt.ylabel(r'$ \\Pr(T_{1,20} \\leq m) $')\n",
    "plt.title(r'$ \\mathbb{E}[T_{1,20}] = ' + str(E) + ' $');"
   ]
  },
  {
   "cell_type": "markdown",
   "metadata": {
    "colab_type": "text",
    "id": "zL6Wkg8Akra5"
   },
   "source": [
    "* Write a computer program that generates 500 realizations from this Markov chain and uses them to plot a histogram of $ T_{1, 20} $.\n"
   ]
  },
  {
   "cell_type": "code",
   "execution_count": 9,
   "metadata": {
    "ExecuteTime": {
     "end_time": "2019-10-21T17:41:55.277205Z",
     "start_time": "2019-10-21T17:41:54.364563Z"
    },
    "colab": {},
    "colab_type": "code",
    "id": "UJfVeRo8kra6"
   },
   "outputs": [
    {
     "data": {
      "text/plain": [
       "Text(0.5, 1.0, 'mean of $ T_{1,20} = ~ $13.05')"
      ]
     },
     "execution_count": 9,
     "metadata": {},
     "output_type": "execute_result"
    },
    {
     "data": {
      "image/png": "[encoded data removed]",
      "text/plain": [
       "<Figure size 720x432 with 1 Axes>"
      ]
     },
     "metadata": {
      "needs_background": "light"
     },
     "output_type": "display_data"
    }
   ],
   "source": [
    "# Use previous funcitons to complete this exercise\n",
    "T = simulate_hitting_time(P, [0, n-1], 500)\n",
    "plt.figure(figsize=(10, 6))\n",
    "plt.hist(T, bins=np.arange(max(T))-0.5)\n",
    "plt.title(r'mean of $ T_{1,20} = ~ $' + str(np.mean(T)))"
   ]
  },
  {
   "cell_type": "markdown",
   "metadata": {
    "colab_type": "text",
    "id": "KdbL1jtrkra8"
   },
   "source": [
    "* Optional Challenge: If the ﬁrst player rolls 4 and climbs the ladder to square 8, then what is the probability that the second player will win."
   ]
  },
  {
   "cell_type": "code",
   "execution_count": null,
   "metadata": {
    "ExecuteTime": {
     "end_time": "2018-10-21T20:14:10.930664Z",
     "start_time": "2018-10-21T20:14:10.925316Z"
    },
    "colab": {},
    "colab_type": "code",
    "id": "QLAdpiSakra8"
   },
   "outputs": [],
   "source": [
    "# Use previous functions to complete this exercise\n",
    "\n",
    "### compute Pr_win\n"
   ]
  },
  {
   "cell_type": "markdown",
   "metadata": {
    "colab_type": "text",
    "id": "4kgihNEkkra-"
   },
   "source": [
    "### Example 2.3"
   ]
  },
  {
   "cell_type": "markdown",
   "metadata": {
    "colab_type": "text",
    "id": "wK6CXa-Tkra_"
   },
   "source": [
    "In a certain city, it is said that the weather is rainy with a 90% probability if it was rainy the previous day and with a 50% probability if it not rainy the previous day. \n",
    "If we assume that only the previous day’s weather matters, then we can model the weather of this city by a Markov chain with $ n = 2 $ states whose transitions are governed by\n",
    "$$\n",
    "    P = \n",
    "    \\begin{bmatrix}\n",
    "        0.9 & 0.1 \\\\\n",
    "        0.5 & 0.5\n",
    "    \\end{bmatrix}\n",
    "$$\n",
    "Under this model, what is the steady-state probability of rainy weather?\n"
   ]
  },
  {
   "cell_type": "code",
   "execution_count": 10,
   "metadata": {
    "ExecuteTime": {
     "end_time": "2019-10-21T17:42:02.834270Z",
     "start_time": "2019-10-21T17:42:02.816791Z"
    },
    "colab": {},
    "colab_type": "code",
    "id": "OXfntMIIkrbA"
   },
   "outputs": [
    {
     "data": {
      "text/plain": [
       "array([[0.83333333],\n",
       "       [0.16666667]])"
      ]
     },
     "execution_count": 10,
     "metadata": {},
     "output_type": "execute_result"
    }
   ],
   "source": [
    "# implement stationary_distribution(P) in fsmc.py\n",
    "def nullspace(A, atol=1e-13, rtol=0):\n",
    "    A = np.atleast_2d(A)\n",
    "    u, s, vh = np.linalg.svd(A)\n",
    "    tol = max(atol, rtol * s[0])\n",
    "    nnz = (s >= tol).sum()\n",
    "    ns = vh[nnz:].conj().T\n",
    "    return ns\n",
    "\n",
    "\n",
    "\n",
    "# General function to approximate the stationary distribution of a Markov chain for Exercise 2.4\n",
    "def stationary_distribution(P):\n",
    "    '''\n",
    "    Arguments:\n",
    "        P {numpy.array} -- n x n, transition matrix of the Markov chain\n",
    "\n",
    "    Returns:\n",
    "        pi {numpy.array} -- length n, stationary distribution of the Markov chain\n",
    "    '''\n",
    "\n",
    "    # Add code here: Think of pi as column vector, solve linear equations:\n",
    "    #     P^T pi = pi\n",
    "    #     sum(pi) = 1\n",
    "    I = np.identity(P.shape[0])\n",
    "    Transf = (I-P).T\n",
    "    A = nullspace(Transf)\n",
    "    A = A/sum(A)\n",
    "    return A\n",
    "\n",
    "\n",
    "P = np.array([[0.9, 0.1], [0.5, 0.5]])\n",
    "stationary_distribution(P)"
   ]
  },
  {
   "cell_type": "markdown",
   "metadata": {
    "colab_type": "text",
    "id": "w85iRTnokrbC"
   },
   "source": [
    "### Exercise 2.4"
   ]
  },
  {
   "cell_type": "markdown",
   "metadata": {
    "colab_type": "text",
    "id": "fSOPhJkDkrbC"
   },
   "source": [
    "Consider a game where the gameboard has 8 diﬀerent spaces arranged in a circle. \n",
    "During each turn, a player rolls two 4-sided dice and moves clockwise by a number of spaces equal to their sum. \n",
    "Deﬁne the transition matrix for this 8-state Markov chain and compute its stationary probability distribution."
   ]
  },
  {
   "cell_type": "code",
   "execution_count": 11,
   "metadata": {
    "ExecuteTime": {
     "end_time": "2019-10-21T17:42:07.762519Z",
     "start_time": "2019-10-21T17:42:07.745047Z"
    },
    "colab": {},
    "colab_type": "code",
    "id": "NMgA712_krbD"
   },
   "outputs": [
    {
     "name": "stdout",
     "output_type": "stream",
     "text": [
      "[[0.0625 0.     0.0625 0.125  0.1875 0.25   0.1875 0.125 ]\n",
      " [0.125  0.0625 0.     0.0625 0.125  0.1875 0.25   0.1875]\n",
      " [0.1875 0.125  0.0625 0.     0.0625 0.125  0.1875 0.25  ]\n",
      " [0.25   0.1875 0.125  0.0625 0.     0.0625 0.125  0.1875]\n",
      " [0.1875 0.25   0.1875 0.125  0.0625 0.     0.0625 0.125 ]\n",
      " [0.125  0.1875 0.25   0.1875 0.125  0.0625 0.     0.0625]\n",
      " [0.0625 0.125  0.1875 0.25   0.1875 0.125  0.0625 0.    ]\n",
      " [0.     0.0625 0.125  0.1875 0.25   0.1875 0.125  0.0625]]\n"
     ]
    },
    {
     "data": {
      "text/plain": [
       "array([[0.125],\n",
       "       [0.125],\n",
       "       [0.125],\n",
       "       [0.125],\n",
       "       [0.125],\n",
       "       [0.125],\n",
       "       [0.125],\n",
       "       [0.125]])"
      ]
     },
     "execution_count": 11,
     "metadata": {},
     "output_type": "execute_result"
    }
   ],
   "source": [
    "# Use previous functions to complete this exercise\n",
    "### construct the transition matrix\n",
    "P = np.zeros((8,8))\n",
    "P[0,:] = [1/16,0,1/16,2/16,3/16,4/16,3/16,2/16]\n",
    "for i in range(1,8):\n",
    "    P[i,:] = np.roll(P[i-1,:],1)\n",
    "print(P)\n",
    "stationary_distribution(P)"
   ]
  },
  {
   "cell_type": "markdown",
   "metadata": {
    "colab_type": "text",
    "id": "Sdb2inyQkrbF"
   },
   "source": [
    "Next, suppose that one space is special (e.g., state-1 of the Markov chain) and a player can only leave this space by rolling doubles (i.e., when both dice show the same value). Again, the player moves clockwise by a number of spaces equal to their sum. Deﬁne the transition matrix for this 8-state Markov chain and compute its stationary probability distribution."
   ]
  },
  {
   "cell_type": "code",
   "execution_count": 12,
   "metadata": {
    "ExecuteTime": {
     "end_time": "2019-10-21T17:42:13.323085Z",
     "start_time": "2019-10-21T17:42:13.307170Z"
    },
    "colab": {},
    "colab_type": "code",
    "id": "GDl2ZCUnkrbF"
   },
   "outputs": [
    {
     "name": "stdout",
     "output_type": "stream",
     "text": [
      "[[0.8125 0.     0.0625 0.     0.0625 0.     0.0625 0.    ]\n",
      " [0.125  0.0625 0.     0.0625 0.125  0.1875 0.25   0.1875]\n",
      " [0.1875 0.125  0.0625 0.     0.0625 0.125  0.1875 0.25  ]\n",
      " [0.25   0.1875 0.125  0.0625 0.     0.0625 0.125  0.1875]\n",
      " [0.1875 0.25   0.1875 0.125  0.0625 0.     0.0625 0.125 ]\n",
      " [0.125  0.1875 0.25   0.1875 0.125  0.0625 0.     0.0625]\n",
      " [0.0625 0.125  0.1875 0.25   0.1875 0.125  0.0625 0.    ]\n",
      " [0.     0.0625 0.125  0.1875 0.25   0.1875 0.125  0.0625]]\n"
     ]
    },
    {
     "data": {
      "text/plain": [
       "array([[0.41836864],\n",
       "       [0.08285234],\n",
       "       [0.10176963],\n",
       "       [0.07092795],\n",
       "       [0.09311176],\n",
       "       [0.0625555 ],\n",
       "       [0.09593429],\n",
       "       [0.07447989]])"
      ]
     },
     "execution_count": 12,
     "metadata": {},
     "output_type": "execute_result"
    }
   ],
   "source": [
    "# Use previous functions to complete this exercise\n",
    "### construct the transition matrix\n",
    "P = np.zeros((8,8)) ### construct the transition matrix\n",
    "P[0,:] = [13/16,0,1/16,0,1/16,0,1/16,0]\n",
    "P[1,:] = np.roll([1/16,0,1/16,2/16,3/16,4/16,3/16,2/16],1)\n",
    "for i in range(2,8):\n",
    "    P[i,:] = np.roll(P[i-1,:],1)\n",
    "print(P)\n",
    "stationary_distribution(P)"
   ]
  },
  {
   "cell_type": "code",
   "execution_count": null,
   "metadata": {},
   "outputs": [],
   "source": []
  }
 ],
 "metadata": {
  "colab": {
   "collapsed_sections": [],
   "name": "fsmc_project.ipynb",
   "provenance": [],
   "toc_visible": true
  },
  "hide_input": false,
  "kernelspec": {
   "display_name": "Python 3",
   "language": "python",
   "name": "python3"
  },
  "language_info": {
   "codemirror_mode": {
    "name": "ipython",
    "version": 3
   },
   "file_extension": ".py",
   "mimetype": "text/x-python",
   "name": "python",
   "nbconvert_exporter": "python",
   "pygments_lexer": "ipython3",
   "version": "3.7.3"
  },
  "toc": {
   "base_numbering": 1,
   "nav_menu": {},
   "number_sections": true,
   "sideBar": true,
   "skip_h1_title": false,
   "title_cell": "Table of Contents",
   "title_sidebar": "Contents",
   "toc_cell": false,
   "toc_position": {},
   "toc_section_display": true,
   "toc_window_display": false
  },
  "varInspector": {
   "cols": {
    "lenName": 16,
    "lenType": 16,
    "lenVar": 40
   },
   "kernels_config": {
    "python": {
     "delete_cmd_postfix": "",
     "delete_cmd_prefix": "del ",
     "library": "var_list.py",
     "varRefreshCmd": "print(var_dic_list())"
    },
    "r": {
     "delete_cmd_postfix": ") ",
     "delete_cmd_prefix": "rm(",
     "library": "var_list.r",
     "varRefreshCmd": "cat(var_dic_list()) "
    }
   },
   "types_to_exclude": [
    "module",
    "function",
    "builtin_function_or_method",
    "instance",
    "_Feature"
   ],
   "window_display": false
  }
 },
 "nbformat": 4,
 "nbformat_minor": 1
}
