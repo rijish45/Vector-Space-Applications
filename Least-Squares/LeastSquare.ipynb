{
 "cells": [
  {
   "cell_type": "code",
   "execution_count": 1,
   "metadata": {
    "ExecuteTime": {
     "end_time": "2018-11-12T05:29:46.877644Z",
     "start_time": "2018-11-12T05:29:46.873129Z"
    }
   },
   "outputs": [],
   "source": [
    "import numpy as np\n",
    "import pandas as pd\n",
    "import matplotlib.pyplot as plt\n",
    "import itertools as it\n",
    "from sklearn.metrics import confusion_matrix\n",
    "%matplotlib inline"
   ]
  },
  {
   "cell_type": "markdown",
   "metadata": {},
   "source": [
    "### Problem 2.1"
   ]
  },
  {
   "cell_type": "markdown",
   "metadata": {},
   "source": [
    "When $n=1$, we can fit a degree-$m$ polynomial by choosing $f_{j}(x)=x^{j-1}$ and $M=m+1$. \n",
    "In this case, it follows that $A_{i,j}=x_{i}^{j-1}$\n",
    "and the matrix $A$ is called a Vandermonde matrix."
   ]
  },
  {
   "cell_type": "markdown",
   "metadata": {},
   "source": [
    "Write a function to create Vandermonde matrix **(5pt)**"
   ]
  },
  {
   "cell_type": "code",
   "execution_count": 2,
   "metadata": {
    "ExecuteTime": {
     "end_time": "2018-11-11T02:24:09.985413Z",
     "start_time": "2018-11-11T02:24:09.980073Z"
    }
   },
   "outputs": [
    {
     "data": {
      "text/plain": [
       "array([[  1.,   1.,   1.,   1.],\n",
       "       [  1.,   2.,   4.,   8.],\n",
       "       [  1.,   3.,   9.,  27.],\n",
       "       [  1.,   4.,  16.,  64.],\n",
       "       [  1.,   5.,  25., 125.],\n",
       "       [  1.,   6.,  36., 216.],\n",
       "       [  1.,   7.,  49., 343.],\n",
       "       [  1.,   8.,  64., 512.],\n",
       "       [  1.,   9.,  81., 729.]])"
      ]
     },
     "execution_count": 2,
     "metadata": {},
     "output_type": "execute_result"
    }
   ],
   "source": [
    "def create_vandermonde(x, m):\n",
    "    \"\"\"\n",
    "    Arguments:\n",
    "        x {numpy.ndarray} -- 1d-array of (x_1, x_2, ..., x_n)\n",
    "        m {int} -- a non-negative integer, degree of polynomial fit\n",
    "    Returns:\n",
    "        A {numpy.ndarray} -- an n x (m+1) matrix where A_{ij} = x_i^{j-1}\n",
    "    \"\"\"\n",
    "    A = np.zeros((x.shape[0], m+1))\n",
    "    for i in range(0,m+1):\n",
    "        A[:,i] = np.power(x,i)\n",
    "    return A\n",
    "\n",
    "x = np.arange(1, 10)\n",
    "create_vandermonde(x, 3)"
   ]
  },
  {
   "cell_type": "markdown",
   "metadata": {},
   "source": [
    "### Problem 2.2"
   ]
  },
  {
   "cell_type": "markdown",
   "metadata": {
    "ExecuteTime": {
     "end_time": "2018-11-11T08:20:31.914140Z",
     "start_time": "2018-11-11T08:20:31.910401Z"
    }
   },
   "source": [
    "Write a function to solve least-square problem **(5pt)**\n",
    "\n",
    "Implementation hint: check `numpy.linalg.lstsq`."
   ]
  },
  {
   "cell_type": "code",
   "execution_count": 3,
   "metadata": {
    "ExecuteTime": {
     "end_time": "2018-11-11T02:24:42.102116Z",
     "start_time": "2018-11-11T02:24:42.098730Z"
    }
   },
   "outputs": [],
   "source": [
    "def solve_linear_LS(A, y):\n",
    "    \"\"\"\n",
    "    Arguments:\n",
    "        A {numpy.ndarray} -- an m x n matrix\n",
    "        y {numpy.ndarray} -- a length-n vector\n",
    "    Returns:\n",
    "        z_hat {numpy.ndarray} -- length-m vector, the optimal solution for the given linear least-square problem\n",
    "    \"\"\"\n",
    "    z_hat = np.linalg.lstsq(A,y, rcond=-1)\n",
    "    return z_hat[0]"
   ]
  },
  {
   "cell_type": "markdown",
   "metadata": {
    "ExecuteTime": {
     "end_time": "2018-11-10T23:36:44.151406Z",
     "start_time": "2018-11-10T23:36:44.147872Z"
    }
   },
   "source": [
    "Using the setup in the previous example, try fitting the points $(1,2),(2,3),(3,5),(4,7),(5,11),(6,13)$\n",
    "to a degree-2 polynomial.\n",
    "\n",
    "Compute the minimum squared error. **(5pt)**\n",
    "\n",
    "Plot this polynomial (for $x\\in[0,7]$) along with the data points to see the quality of fit. **(5pt)**"
   ]
  },
  {
   "cell_type": "code",
   "execution_count": 4,
   "metadata": {
    "ExecuteTime": {
     "end_time": "2018-11-11T02:24:42.608714Z",
     "start_time": "2018-11-11T02:24:42.474697Z"
    }
   },
   "outputs": [
    {
     "name": "stdout",
     "output_type": "stream",
     "text": [
      "best polynomial fit is 0.3214 x^2 + 0.2071 x^1 + 1.4000\n",
      "minimum squared error is 0.0810\n"
     ]
    },
    {
     "data": {
      "image/png": "[encoded data removed]",
      "text/plain": [
       "<Figure size 576x288 with 1 Axes>"
      ]
     },
     "metadata": {},
     "output_type": "display_data"
    }
   ],
   "source": [
    "x = np.array([1, 2, 3, 4, 5, 6])\n",
    "y = np.array([2, 3, 5, 7, 11, 14])\n",
    "m = 2\n",
    "\n",
    "# Create Vandermonde matrix A\n",
    "A = create_vandermonde(x,m)\n",
    "\n",
    "# Solve least square problem to minimize || y - A z ||^2\n",
    "z_hat = solve_linear_LS(A,y)\n",
    "\n",
    "# Compute the minimum square error\n",
    "mse = sum(np.power((y-np.sum((A*z_hat),1)),2))/len(y)\n",
    "\n",
    "# Generate plot points for the fitted polynomial\n",
    "xx = x\n",
    "yy = np.sum(A*z_hat, 1)\n",
    "\n",
    "plt.figure(figsize=(8, 4))\n",
    "plt.scatter(x, y, color='red', label='data points')\n",
    "plt.plot(xx, yy, label='polynomial fit')\n",
    "plt.legend()\n",
    "\n",
    "poly_expr = ' + '.join(['{0:.4f} x^{1}'.format(v, i) for i, v in enumerate(z_hat)][::-1])[:-4]\n",
    "print('best polynomial fit is {0}'.format(poly_expr))\n",
    "print('minimum squared error is {0:.4f}'.format(mse))"
   ]
  },
  {
   "cell_type": "markdown",
   "metadata": {},
   "source": [
    "### Problem 3.2"
   ]
  },
  {
   "cell_type": "markdown",
   "metadata": {},
   "source": [
    "Read `mnist_train.csv`, create a dataframe with two columns, column `feature` contains all $x$ and column `label` contains all $y$"
   ]
  },
  {
   "cell_type": "code",
   "execution_count": 5,
   "metadata": {
    "ExecuteTime": {
     "end_time": "2018-11-11T01:37:44.960281Z",
     "start_time": "2018-11-11T01:37:38.796829Z"
    }
   },
   "outputs": [
    {
     "data": {
      "text/html": [
       "<div>\n",
       "<style scoped>\n",
       "    .dataframe tbody tr th:only-of-type {\n",
       "        vertical-align: middle;\n",
       "    }\n",
       "\n",
       "    .dataframe tbody tr th {\n",
       "        vertical-align: top;\n",
       "    }\n",
       "\n",
       "    .dataframe thead th {\n",
       "        text-align: right;\n",
       "    }\n",
       "</style>\n",
       "<table border=\"1\" class=\"dataframe\">\n",
       "  <thead>\n",
       "    <tr style=\"text-align: right;\">\n",
       "      <th></th>\n",
       "      <th>feature</th>\n",
       "      <th>label</th>\n",
       "    </tr>\n",
       "  </thead>\n",
       "  <tbody>\n",
       "    <tr>\n",
       "      <th>0</th>\n",
       "      <td>[0, 0, 0, 0, 0, 0, 0, 0, 0, 0, 0, 0, 0, 0, 0, ...</td>\n",
       "      <td>1</td>\n",
       "    </tr>\n",
       "    <tr>\n",
       "      <th>1</th>\n",
       "      <td>[0, 0, 0, 0, 0, 0, 0, 0, 0, 0, 0, 0, 0, 0, 0, ...</td>\n",
       "      <td>0</td>\n",
       "    </tr>\n",
       "    <tr>\n",
       "      <th>2</th>\n",
       "      <td>[0, 0, 0, 0, 0, 0, 0, 0, 0, 0, 0, 0, 0, 0, 0, ...</td>\n",
       "      <td>1</td>\n",
       "    </tr>\n",
       "    <tr>\n",
       "      <th>3</th>\n",
       "      <td>[0, 0, 0, 0, 0, 0, 0, 0, 0, 0, 0, 0, 0, 0, 0, ...</td>\n",
       "      <td>4</td>\n",
       "    </tr>\n",
       "    <tr>\n",
       "      <th>4</th>\n",
       "      <td>[0, 0, 0, 0, 0, 0, 0, 0, 0, 0, 0, 0, 0, 0, 0, ...</td>\n",
       "      <td>0</td>\n",
       "    </tr>\n",
       "  </tbody>\n",
       "</table>\n",
       "</div>"
      ],
      "text/plain": [
       "                                             feature  label\n",
       "0  [0, 0, 0, 0, 0, 0, 0, 0, 0, 0, 0, 0, 0, 0, 0, ...      1\n",
       "1  [0, 0, 0, 0, 0, 0, 0, 0, 0, 0, 0, 0, 0, 0, 0, ...      0\n",
       "2  [0, 0, 0, 0, 0, 0, 0, 0, 0, 0, 0, 0, 0, 0, 0, ...      1\n",
       "3  [0, 0, 0, 0, 0, 0, 0, 0, 0, 0, 0, 0, 0, 0, 0, ...      4\n",
       "4  [0, 0, 0, 0, 0, 0, 0, 0, 0, 0, 0, 0, 0, 0, 0, ...      0"
      ]
     },
     "execution_count": 5,
     "metadata": {},
     "output_type": "execute_result"
    }
   ],
   "source": [
    "# read mnist csv file to a dataframe\n",
    "df = pd.read_csv('mnist_train.csv')\n",
    "\n",
    "# append feature column by merging all pixel columns\n",
    "df['feature'] = df.apply(lambda row: row.values[1:], axis=1)\n",
    "\n",
    "# only keep feature and label column\n",
    "df = df[['feature', 'label']]\n",
    "\n",
    "# display first 5 rows of the dataframe\n",
    "df.head()"
   ]
  },
  {
   "cell_type": "markdown",
   "metadata": {},
   "source": [
    "Plot the first 30 images"
   ]
  },
  {
   "cell_type": "code",
   "execution_count": 6,
   "metadata": {
    "ExecuteTime": {
     "end_time": "2018-11-11T01:43:11.829646Z",
     "start_time": "2018-11-11T01:43:11.044296Z"
    }
   },
   "outputs": [
    {
     "data": {
      "image/png": "[encoded data removed]",
      "text/plain": [
       "<Figure size 1080x180 with 30 Axes>"
      ]
     },
     "metadata": {},
     "output_type": "display_data"
    }
   ],
   "source": [
    "plt.figure(figsize=(15, 2.5))\n",
    "for i, row in df.iloc[:30].iterrows():\n",
    "    x, y = row['feature'], row['label']\n",
    "    plt.subplot(2, 15, i + 1)\n",
    "    plt.imshow(x.reshape(28, 28), cmap='gray')\n",
    "    plt.axis('off')\n",
    "    plt.title(y)"
   ]
  },
  {
   "cell_type": "markdown",
   "metadata": {},
   "source": [
    "Extract the all samples labeled with digit $n$ and randomly separate the samples into equal-sized training and testing groups. **(10pt)**"
   ]
  },
  {
   "cell_type": "code",
   "execution_count": 7,
   "metadata": {
    "ExecuteTime": {
     "end_time": "2018-11-11T07:45:44.606867Z",
     "start_time": "2018-11-11T07:45:44.602783Z"
    }
   },
   "outputs": [],
   "source": [
    "def extract_and_split(df, d, test_size=0.5):\n",
    "    \"\"\"\n",
    "    extract the samples with given lables and randomly separate the samples into equal-sized training and testing groups, extend each vector to length 785 by appending a −1\n",
    "    Arguments:\n",
    "        df {dataframe} -- the dataframe of MNIST dataset\n",
    "        d {int} -- digit needs to be extracted, can be 0, 1, ..., 9\n",
    "        test_size {float} -- the fraction of testing set, default value is 0.5\n",
    "    Returns:\n",
    "        X_tr {numpy.ndarray} -- training set features, a matrix with 785 columns\n",
    "                                each row corresponds the feature of a sample\n",
    "        y_tr {numpy.ndarray} -- training set labels, 1d-array\n",
    "                                each element corresponds the label of a sample\n",
    "        X_te {numpy.ndarray} -- testing set features, a matrix with 785 columns \n",
    "                                each row corresponds the feature of a sample\n",
    "        y_te {numpy.ndarray} -- testing set labels, 1d-array\n",
    "                                each element corresponds the label of a sample\n",
    "    \"\"\"\n",
    "    digit = df[df.label == d]\n",
    "    X = digit.values[:,0]\n",
    "    y = digit.values[:,1]\n",
    "    inds0 = np.random.choice(X.shape[0],size=X.shape[0])\n",
    "    X = X[inds0]\n",
    "    y = y[inds0]\n",
    "    X_tr = np.stack((X[0:int(test_size*X.shape[0])]), axis=0)\n",
    "    X_te = np.stack((X[int(test_size*X.shape[0]):X.shape[0]]), axis=0)\n",
    "    y_tr = np.array(y[0:int(test_size*y.shape[0])])\n",
    "    y_te = np.array(y[int(test_size*y.shape[0]):y.shape[0]])\n",
    "    return X_tr, X_te, y_tr, y_te"
   ]
  },
  {
   "cell_type": "markdown",
   "metadata": {},
   "source": [
    "A useful preprocess function before you draw histogram.\n",
    "Sometimes your histogram becomes ugly because of the existence of outlier points.\n",
    "The function below drops the unwanted outlier points, please call this function before you pass your result to draw a histogram."
   ]
  },
  {
   "cell_type": "code",
   "execution_count": 8,
   "metadata": {},
   "outputs": [],
   "source": [
    "def remove_outlier(x, thresh=3.5):\n",
    "    \"\"\"\n",
    "    returns points that are not outliers to make histogram prettier\n",
    "    reference: https://stackoverflow.com/questions/11882393/matplotlib-disregard-outliers-when-plotting/11886564\n",
    "    Arguments:\n",
    "        x {numpy.ndarray} -- 1d-array, points to be filtered\n",
    "        thresh {float} -- the modified z-score to use as a threshold. Observations with\n",
    "                          a modified z-score (based on the median absolute deviation) greater\n",
    "                          than this value will be classified as outliers.\n",
    "    Returns:\n",
    "        x_filtered {numpy.ndarray} -- 1d-array, filtered points after dropping outlier\n",
    "    \"\"\"\n",
    "    if len(x.shape) == 1: x = x[:,None]\n",
    "    median = np.median(x, axis=0)\n",
    "    diff = np.sqrt(((x - median)**2).sum(axis=-1))\n",
    "    modified_z_score = 0.6745 * diff / np.median(diff)\n",
    "    x_filtered = x[modified_z_score <= thresh]\n",
    "    return x_filtered"
   ]
  },
  {
   "cell_type": "markdown",
   "metadata": {},
   "source": [
    "Pairwise experiment for applying least-square to classify digit $a$ and digit $b$. \n",
    "\n",
    "Follow the given steps in the template and implement the function for pairwise experiment **(25pt)**"
   ]
  },
  {
   "cell_type": "code",
   "execution_count": 9,
   "metadata": {
    "ExecuteTime": {
     "end_time": "2018-11-11T07:53:22.761924Z",
     "start_time": "2018-11-11T07:53:22.753615Z"
    }
   },
   "outputs": [],
   "source": [
    "def mnist_pairwise_LS(df, a, b, test_size=0.5, verbose=False):\n",
    "    \"\"\"\n",
    "    Pairwise experiment for applying least-square to classify digit a and digit b\n",
    "    Arguments:\n",
    "        df {dataframe} -- the dataframe of MNIST dataset\n",
    "        a, b {int} -- digits to be classified\n",
    "        test_size {float} -- the fraction of testing set, default value is 0.5\n",
    "        verbose {bool} -- whether to print and plot results\n",
    "    Returns:\n",
    "        res {numpy.ndarray} -- numpy.array([traing error, testing error])\n",
    "    \"\"\"\n",
    "    # Find all samples labeled with digit a and split into train/test sets\n",
    "    Xa_tr, Xa_te, ya_tr, ya_te = extract_and_split(df, a, test_size)\n",
    "    # Find all samples labeled with digit b and split into train/test sets\n",
    "    Xb_tr, Xb_te, yb_tr, yb_te = extract_and_split(df, b, test_size)\n",
    "    ya_tr = [-1 for i in ya_tr]\n",
    "    yb_tr = [1 for i in yb_tr]\n",
    "    ya_te = [-1 for i in ya_te]\n",
    "    yb_te = [1 for i in yb_te]\n",
    "    \n",
    "    # Construct the full training set\n",
    "    X_tr = np.concatenate((Xa_tr, Xb_tr), axis=0)\n",
    "    X_tr = np.append(X_tr, -1*np.ones((X_tr.shape[0],1)), 1)\n",
    "    y_tr = np.concatenate((ya_tr, yb_tr), axis=0)\n",
    "    # Construct the full testing set\n",
    "    X_te = np.concatenate((Xa_te, Xb_te), axis=0)\n",
    "    X_te = np.append(X_te, -1*np.ones((X_te.shape[0],1)), 1)\n",
    "    y_te = np.concatenate((ya_te, yb_te), axis=0)\n",
    "    \n",
    "    # Run least-square on training set\n",
    "    z_hat = solve_linear_LS(X_tr.astype(float),y_tr.astype(float))\n",
    "\n",
    "    # Compute estimation and misclassification on training set\n",
    "    mask = list(map(lambda i: 1 if i >= 0 else -1, (X_tr @ z_hat)))\n",
    "    y_hat_tr = np.array(mask, dtype = int).flatten()\n",
    "    err_tr = np.sum(np.array([y_hat_tr != y_tr]))/len(y_tr)\n",
    "\n",
    "    # Compute estimation and misclassification on training set\n",
    "    y_t = X_te @ z_hat\n",
    "    y_hat_te= list(map(lambda i: -1 if i < 0 else 1, y_t))\n",
    "    y_hat_te = np.array(y_hat_te, dtype=int).flatten()\n",
    "    err_te = np.sum(np.array([y_hat_te != y_te]))/len(y_te)\n",
    "    \n",
    "    if verbose:\n",
    "        print('Pairwise experiment, mapping {0} to -1, mapping {1} to 1'.format(a, b))\n",
    "        print('training error = {0:.2f}%, testing error = {1:.2f}%'.format(100 * err_tr, 100 * err_te))\n",
    "        # Compute confusion matrix\n",
    "        cm = confusion_matrix(y_te.astype(int), y_hat_te.astype(int))\n",
    "        print('Confusion matrix:\\n {0}'.format(cm))\n",
    "        # Compute the histogram of the function output separately for each class \n",
    "        # Then plot the two histograms together\n",
    "        ya_te_hat, yb_te_hat = np.split(y_t, [len(ya_te)])\n",
    "        output = [remove_outlier(ya_te_hat), remove_outlier(yb_te_hat)]\n",
    "        plt.figure(figsize=(8, 4))\n",
    "        plt.hist(output, bins=50)\n",
    "    \n",
    "    res = np.array([err_tr, err_te])\n",
    "    return res"
   ]
  },
  {
   "cell_type": "markdown",
   "metadata": {},
   "source": [
    "Pairwise experiment for applying least-square to classify digit $0$ and digit $1$."
   ]
  },
  {
   "cell_type": "code",
   "execution_count": 10,
   "metadata": {
    "ExecuteTime": {
     "end_time": "2018-11-11T07:53:07.970071Z",
     "start_time": "2018-11-11T07:53:06.924725Z"
    }
   },
   "outputs": [
    {
     "name": "stdout",
     "output_type": "stream",
     "text": [
      "Pairwise experiment, mapping 0 to -1, mapping 1 to 1\n",
      "training error = 0.27%, testing error = 0.88%\n",
      "Confusion matrix:\n",
      " [[2043   23]\n",
      " [  16 2326]]\n"
     ]
    },
    {
     "data": {
      "text/plain": [
       "array([0.00272232, 0.00884755])"
      ]
     },
     "execution_count": 10,
     "metadata": {},
     "output_type": "execute_result"
    },
    {
     "data": {
      "image/png": "[encoded data removed]",
      "text/plain": [
       "<Figure size 576x288 with 1 Axes>"
      ]
     },
     "metadata": {},
     "output_type": "display_data"
    }
   ],
   "source": [
    "mnist_pairwise_LS(df, 0, 1, verbose=True)"
   ]
  },
  {
   "cell_type": "markdown",
   "metadata": {},
   "source": [
    "### Problem 3.3"
   ]
  },
  {
   "cell_type": "markdown",
   "metadata": {},
   "source": [
    "Repeat the above problem for all pairs of digits. For each pair of digits, report the classification error rates for the training and testing sets. The error rates can be formatted nicely into a triangular matrix. **(15pt)**\n",
    "\n",
    "For example, you can put all testing error in the lower triangle and all training error in the upper triangle.\n",
    "You may run the classification several times to get an average error rate over different sample split."
   ]
  },
  {
   "cell_type": "code",
   "execution_count": 11,
   "metadata": {
    "ExecuteTime": {
     "end_time": "2018-11-11T08:07:17.721287Z",
     "start_time": "2018-11-11T08:03:29.541994Z"
    }
   },
   "outputs": [
    {
     "name": "stdout",
     "output_type": "stream",
     "text": [
      "[[0.   0.25 0.6  0.33 0.12 0.56 0.77 0.19 0.66 0.36]\n",
      " [1.11 0.   0.74 0.58 0.11 0.38 0.16 0.4  1.53 0.14]\n",
      " [1.59 1.92 0.   1.24 0.85 0.93 0.99 0.93 1.8  0.45]\n",
      " [1.16 1.68 3.21 0.   0.33 2.23 0.21 0.66 2.64 0.96]\n",
      " [0.49 1.19 2.42 1.45 0.   0.48 0.29 0.59 0.25 1.94]\n",
      " [1.87 1.25 2.88 5.2  1.53 0.   1.29 0.41 2.34 0.95]\n",
      " [2.01 0.79 2.07 1.51 1.   3.23 0.   0.05 0.95 0.14]\n",
      " [1.22 1.14 2.28 2.12 2.01 1.32 0.63 0.   0.52 2.28]\n",
      " [1.37 3.93 4.54 5.25 0.93 4.12 3.39 1.7  0.   0.97]\n",
      " [0.62 1.22 1.72 2.72 3.44 2.08 0.77 4.12 2.71 0.  ]]\n"
     ]
    },
    {
     "data": {
      "image/png": "[encoded data removed]",
      "text/plain": [
       "<Figure size 576x576 with 1 Axes>"
      ]
     },
     "metadata": {},
     "output_type": "display_data"
    }
   ],
   "source": [
    "from tqdm import tqdm_notebook as tqdm\n",
    "num_trial, err_matrix = 1, np.zeros((10, 10))\n",
    "\n",
    "# Fill the err_matrix, for all a < b\n",
    "# err_matrix[a, b] = training error between digits a and b\n",
    "# err_matrix[b, a] = testing error between digits a and b\n",
    "for i in range (10):\n",
    "    for j in range(i):\n",
    "        err = mnist_pairwise_LS(df,j,i)\n",
    "        err_matrix[j,i] = err[0]\n",
    "        err_matrix[i,j] = err[1]\n",
    "\n",
    "plt.figure(figsize=(8, 8))\n",
    "plt.imshow(err_matrix)\n",
    "plt.title('upper triangle: training error; lower triangle: testing error');\n",
    "print(np.round(err_matrix*100, 2))"
   ]
  },
  {
   "cell_type": "markdown",
   "metadata": {},
   "source": [
    "### Problem 3.4"
   ]
  },
  {
   "cell_type": "markdown",
   "metadata": {},
   "source": [
    "But, what about a multi-class classifier for MNIST digits? \n",
    "For multi-class linear classification with d classes, one standard approach is to learn a linear mapping $f \\colon \\mathbb{R}^n \\to \\mathbb{R}^d $ where the “$y$”-value for the $i$-th class is chosen to be the standard basis vector $ \\underline{e}_i \\in \\mathbb{R}^d $. \n",
    "This is sometimes called one-hot encoding. \n",
    "Using the same $A$ matrix as before and a matrix $Y$, defined by $Y_{i,j}$ if observation $i$ in class $j$ and $Y_{i,j} = 0$ otherwise, we can solve for the coefficient matrix $Z \\in \\mathbb{R}^d$ coefficients .\n",
    "Then, the classifier maps a vector $\\underline{x}$ to class $i$ if the $i$-th element of $Z^T \\underline{x}$ is the largest element in the vector. \n",
    "\n",
    "Follow the given steps in the template and implement the function for multi-class classification experiment **(30pt)**"
   ]
  },
  {
   "cell_type": "code",
   "execution_count": 12,
   "metadata": {},
   "outputs": [],
   "source": [
    "def get_one_hot(targets, nb_classes):\n",
    "        res = np.eye(nb_classes)[np.array(targets, dtype = int).reshape(-1)]\n",
    "        return res.reshape(list(targets.shape)+[nb_classes])\n",
    "        #return np.squeeze(np.eye(nb_classes)[targets.reshape(-1)])"
   ]
  },
  {
   "cell_type": "code",
   "execution_count": 13,
   "metadata": {
    "ExecuteTime": {
     "end_time": "2018-11-11T08:14:05.827204Z",
     "start_time": "2018-11-11T08:14:05.821382Z"
    }
   },
   "outputs": [],
   "source": [
    "def mnist_onehot_LS(df, test_size=0.5):\n",
    "    \"\"\"\n",
    "    Experiment for applying least-square to classify all digits using one-hot encoding\n",
    "    Arguments:\n",
    "        df {dataframe} -- the dataframe of MNIST dataset\n",
    "        test_size {float} -- the fraction of testing set, default value is 0.5\n",
    "    Returns:\n",
    "        res {numpy.ndarray} -- numpy.array([traing error, testing error])\n",
    "    \"\"\"\n",
    "    inds0 = np.arange(len(df))\n",
    "    np.random.shuffle(inds0)\n",
    "    df = df.iloc[inds0]\n",
    "    \n",
    "    # Split into training/testing set\n",
    "    tr = df.iloc[0:int(test_size*len(df))]\n",
    "    te = df.iloc[int(test_size*len(df)):len(df)]\n",
    "   \n",
    "    # Construct the training set\n",
    "    X_tr = np.stack(tr.values[:,0], axis=0)\n",
    "    X_tr = np.append(X_tr, -1*np.ones((X_tr.shape[0],1)), 1)\n",
    "    y_tr = np.array(tr.values[:,1])\n",
    "    \n",
    "    # Construct the testing set\n",
    "    X_te = np.stack(te.values[:,0], axis=0)\n",
    "    X_te = np.append(X_te, -1*np.ones((X_te.shape[0],1)), 1)\n",
    "    y_te = np.array(te.values[:,1])\n",
    "    \n",
    "    # Apply one-hot encoding to training labels\n",
    "    Y = get_one_hot(y_tr, 10)\n",
    "    \n",
    "    # Run least-square on training set\n",
    "    Z = solve_linear_LS(X_tr, Y)\n",
    "    \n",
    "    # Compute estimation and misclassification on training set\n",
    "    y_hat_tr = X_tr @ Z\n",
    "    err_tr = np.sum(np.array([np.argmax(y_hat_tr, axis=1) != y_tr]))/len(y_tr)\n",
    "    \n",
    "    # Compute estimation and misclassification on training set\n",
    "    y_hat_te = X_te @ Z\n",
    "    err_te = np.sum(np.array([np.argmax(y_hat_te, axis=1) != y_te]))/len(y_te)\n",
    "    \n",
    "    print('training error = {0:.2f}%, testing error = {1:.2f}%'.format(100 * err_tr, 100 * err_te))\n",
    "    # Compute confusion matrix\n",
    "    cm = confusion_matrix(y_te.astype(int), np.argmax(y_hat_te, axis=1).astype(int))\n",
    "    print('Confusion matrix:\\n {0}'.format(cm))\n",
    "    return np.array([err_tr, err_te])"
   ]
  },
  {
   "cell_type": "code",
   "execution_count": 14,
   "metadata": {
    "ExecuteTime": {
     "end_time": "2018-11-11T08:14:08.452829Z",
     "start_time": "2018-11-11T08:14:06.811273Z"
    }
   },
   "outputs": [
    {
     "name": "stdout",
     "output_type": "stream",
     "text": [
      "training error = 13.30%, testing error = 15.27%\n",
      "Confusion matrix:\n",
      " [[2014    3    6    7   14   21   21    1   16    1]\n",
      " [   2 2333   13    4    3    7    9    2   25    1]\n",
      " [  43  103 1588   72   46    6  104   40   67   13]\n",
      " [  13   51   89 1800    8   59   22   44   59   48]\n",
      " [   5   36   21    0 1774   25   17   11   14  113]\n",
      " [  74   28   12  173   40 1331   64   15   84   44]\n",
      " [  49   30   19    0   45   32 1909    0   16    0]\n",
      " [  19   68   21   16   57    6    3 1851    5  128]\n",
      " [  25  158   19   83   30   85   28    6 1517   48]\n",
      " [  32   23    6   43  129    8    1  134   15 1677]]\n"
     ]
    },
    {
     "data": {
      "text/plain": [
       "array([0.133     , 0.15266667])"
      ]
     },
     "execution_count": 14,
     "metadata": {},
     "output_type": "execute_result"
    }
   ],
   "source": [
    "mnist_onehot_LS(df)"
   ]
  },
  {
   "cell_type": "code",
   "execution_count": null,
   "metadata": {},
   "outputs": [],
   "source": []
  }
 ],
 "metadata": {
  "hide_input": false,
  "kernelspec": {
   "display_name": "Python 3",
   "language": "python",
   "name": "python3"
  },
  "language_info": {
   "codemirror_mode": {
    "name": "ipython",
    "version": 3
   },
   "file_extension": ".py",
   "mimetype": "text/x-python",
   "name": "python",
   "nbconvert_exporter": "python",
   "pygments_lexer": "ipython3",
   "version": "3.7.3"
  },
  "toc": {
   "base_numbering": 1,
   "nav_menu": {},
   "number_sections": true,
   "sideBar": true,
   "skip_h1_title": false,
   "title_cell": "Table of Contents",
   "title_sidebar": "Contents",
   "toc_cell": false,
   "toc_position": {},
   "toc_section_display": true,
   "toc_window_display": false
  },
  "varInspector": {
   "cols": {
    "lenName": 16,
    "lenType": 16,
    "lenVar": 40
   },
   "kernels_config": {
    "python": {
     "delete_cmd_postfix": "",
     "delete_cmd_prefix": "del ",
     "library": "var_list.py",
     "varRefreshCmd": "print(var_dic_list())"
    },
    "r": {
     "delete_cmd_postfix": ") ",
     "delete_cmd_prefix": "rm(",
     "library": "var_list.r",
     "varRefreshCmd": "cat(var_dic_list()) "
    }
   },
   "position": {
    "height": "309px",
    "left": "1550px",
    "right": "20px",
    "top": "120px",
    "width": "350px"
   },
   "types_to_exclude": [
    "module",
    "function",
    "builtin_function_or_method",
    "instance",
    "_Feature"
   ],
   "window_display": false
  }
 },
 "nbformat": 4,
 "nbformat_minor": 2
}
