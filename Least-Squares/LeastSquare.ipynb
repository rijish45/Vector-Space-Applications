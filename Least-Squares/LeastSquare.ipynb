{
 "cells": [
  {
   "cell_type": "code",
   "execution_count": 1,
   "metadata": {
    "ExecuteTime": {
     "end_time": "2019-11-18T03:59:25.243996Z",
     "start_time": "2019-11-18T03:59:22.601493Z"
    }
   },
   "outputs": [],
   "source": [
    "import numpy as np\n",
    "import pandas as pd\n",
    "import matplotlib.pyplot as plt\n",
    "import itertools as it\n",
    "from sklearn.metrics import confusion_matrix\n",
    "%matplotlib inline"
   ]
  },
  {
   "cell_type": "markdown",
   "metadata": {},
   "source": [
    "### Problem 2.1"
   ]
  },
  {
   "cell_type": "markdown",
   "metadata": {},
   "source": [
    "When $n=1$, we can fit a degree-$m$ polynomial by choosing $f_{j}(x)=x^{j-1}$ and $M=m+1$. \n",
    "In this case, it follows that $A_{i,j}=x_{i}^{j-1}$\n",
    "and the matrix $A$ is called a Vandermonde matrix."
   ]
  },
  {
   "cell_type": "markdown",
   "metadata": {},
   "source": [
    "Write a function to create Vandermonde matrix **(5pt)**"
   ]
  },
  {
   "cell_type": "code",
   "execution_count": 2,
   "metadata": {
    "ExecuteTime": {
     "end_time": "2019-11-18T03:59:25.274808Z",
     "start_time": "2019-11-18T03:59:25.248060Z"
    }
   },
   "outputs": [
    {
     "data": {
      "text/plain": [
       "array([[  1.,   1.,   1.,   1.],\n",
       "       [  1.,   2.,   4.,   8.],\n",
       "       [  1.,   3.,   9.,  27.],\n",
       "       [  1.,   4.,  16.,  64.],\n",
       "       [  1.,   5.,  25., 125.],\n",
       "       [  1.,   6.,  36., 216.],\n",
       "       [  1.,   7.,  49., 343.],\n",
       "       [  1.,   8.,  64., 512.],\n",
       "       [  1.,   9.,  81., 729.]])"
      ]
     },
     "execution_count": 2,
     "metadata": {},
     "output_type": "execute_result"
    }
   ],
   "source": [
    "def create_vandermonde(x, m):\n",
    "    \"\"\"\n",
    "    Arguments:\n",
    "        x {numpy.ndarray} -- 1d-array of (x_1, x_2, ..., x_n)\n",
    "        m {int} -- a non-negative integer, degree of polynomial fit\n",
    "    Returns:\n",
    "        A {numpy.ndarray} -- an n x (m+1) matrix where A_{ij} = x_i^{j-1}\n",
    "    \"\"\"\n",
    "    A = np.zeros((x.shape[0], m+1))\n",
    "    for i in range(0,m+1):\n",
    "        A[:,i] = np.power(x,i)\n",
    "    return A\n",
    "\n",
    "x = np.arange(1, 10)\n",
    "create_vandermonde(x, 3)"
   ]
  },
  {
   "cell_type": "markdown",
   "metadata": {},
   "source": [
    "### Problem 2.2"
   ]
  },
  {
   "cell_type": "markdown",
   "metadata": {
    "ExecuteTime": {
     "end_time": "2018-11-11T08:20:31.914140Z",
     "start_time": "2018-11-11T08:20:31.910401Z"
    }
   },
   "source": [
    "Write a function to solve least-square problem **(5pt)**\n",
    "\n",
    "Implementation hint: check `numpy.linalg.lstsq`."
   ]
  },
  {
   "cell_type": "code",
   "execution_count": 3,
   "metadata": {
    "ExecuteTime": {
     "end_time": "2019-11-18T03:59:25.291299Z",
     "start_time": "2019-11-18T03:59:25.281475Z"
    }
   },
   "outputs": [],
   "source": [
    "def solve_linear_LS(A, y):\n",
    "    \"\"\"\n",
    "    Arguments:\n",
    "        A {numpy.ndarray} -- an m x n matrix\n",
    "        y {numpy.ndarray} -- a length-n vector\n",
    "    Returns:\n",
    "        z_hat {numpy.ndarray} -- length-m vector, the optimal solution for the given linear least-square problem\n",
    "    \"\"\"\n",
    "    z_hat = np.linalg.lstsq(A,y, rcond=-1)\n",
    "    return z_hat[0]"
   ]
  },
  {
   "cell_type": "markdown",
   "metadata": {
    "ExecuteTime": {
     "end_time": "2018-11-10T23:36:44.151406Z",
     "start_time": "2018-11-10T23:36:44.147872Z"
    }
   },
   "source": [
    "Using the setup in the previous example, try fitting the points $(1,2),(2,3),(3,5),(4,7),(5,11),(6,13)$\n",
    "to a degree-2 polynomial.\n",
    "\n",
    "Compute the minimum squared error. **(5pt)**\n",
    "\n",
    "Plot this polynomial (for $x\\in[0,7]$) along with the data points to see the quality of fit. **(5pt)**"
   ]
  },
  {
   "cell_type": "code",
   "execution_count": 4,
   "metadata": {
    "ExecuteTime": {
     "end_time": "2019-11-18T03:59:25.770064Z",
     "start_time": "2019-11-18T03:59:25.296218Z"
    }
   },
   "outputs": [
    {
     "name": "stdout",
     "output_type": "stream",
     "text": [
      "best polynomial fit is 0.3214 x^2 + 0.2071 x^1 + 1.4000\n",
      "minimum squared error is 0.0810\n"
     ]
    },
    {
     "data": {
      "image/png": "[encoded data removed]",
      "text/plain": [
       "<Figure size 576x288 with 1 Axes>"
      ]
     },
     "metadata": {
      "needs_background": "light"
     },
     "output_type": "display_data"
    }
   ],
   "source": [
    "x = np.array([1, 2, 3, 4, 5, 6])\n",
    "y = np.array([2, 3, 5, 7, 11, 14])\n",
    "m = 2\n",
    "\n",
    "# Create Vandermonde matrix A\n",
    "A = create_vandermonde(x,m)\n",
    "\n",
    "# Solve least square problem to minimize || y - A z ||^2\n",
    "z_hat = solve_linear_LS(A,y)\n",
    "\n",
    "# Compute the minimum square error\n",
    "mse = sum(np.power((y-np.sum((A*z_hat),1)),2))/len(y)\n",
    "\n",
    "# Generate plot points for the fitted polynomial\n",
    "xx = x\n",
    "yy = np.sum(A*z_hat, 1)\n",
    "\n",
    "plt.figure(figsize=(8, 4))\n",
    "plt.scatter(x, y, color='red', label='data points')\n",
    "plt.plot(xx, yy, label='polynomial fit')\n",
    "plt.legend()\n",
    "\n",
    "poly_expr = ' + '.join(['{0:.4f} x^{1}'.format(v, i) for i, v in enumerate(z_hat)][::-1])[:-4]\n",
    "print('best polynomial fit is {0}'.format(poly_expr))\n",
    "print('minimum squared error is {0:.4f}'.format(mse))"
   ]
  },
  {
   "cell_type": "markdown",
   "metadata": {},
   "source": [
    "### Problem 3.2"
   ]
  },
  {
   "cell_type": "markdown",
   "metadata": {},
   "source": [
    "Read `mnist_train.csv`, create a dataframe with two columns, column `feature` contains all $x$ and column `label` contains all $y$"
   ]
  },
  {
   "cell_type": "code",
   "execution_count": 7,
   "metadata": {
    "ExecuteTime": {
     "end_time": "2019-11-18T04:01:19.879442Z",
     "start_time": "2019-11-18T04:01:11.900337Z"
    }
   },
   "outputs": [
    {
     "data": {
      "text/html": [
       "<div>\n",
       "<style scoped>\n",
       "    .dataframe tbody tr th:only-of-type {\n",
       "        vertical-align: middle;\n",
       "    }\n",
       "\n",
       "    .dataframe tbody tr th {\n",
       "        vertical-align: top;\n",
       "    }\n",
       "\n",
       "    .dataframe thead th {\n",
       "        text-align: right;\n",
       "    }\n",
       "</style>\n",
       "<table border=\"1\" class=\"dataframe\">\n",
       "  <thead>\n",
       "    <tr style=\"text-align: right;\">\n",
       "      <th></th>\n",
       "      <th>feature</th>\n",
       "      <th>label</th>\n",
       "    </tr>\n",
       "  </thead>\n",
       "  <tbody>\n",
       "    <tr>\n",
       "      <td>0</td>\n",
       "      <td>[0, 0, 0, 0, 0, 0, 0, 0, 0, 0, 0, 0, 0, 0, 0, ...</td>\n",
       "      <td>1</td>\n",
       "    </tr>\n",
       "    <tr>\n",
       "      <td>1</td>\n",
       "      <td>[0, 0, 0, 0, 0, 0, 0, 0, 0, 0, 0, 0, 0, 0, 0, ...</td>\n",
       "      <td>0</td>\n",
       "    </tr>\n",
       "    <tr>\n",
       "      <td>2</td>\n",
       "      <td>[0, 0, 0, 0, 0, 0, 0, 0, 0, 0, 0, 0, 0, 0, 0, ...</td>\n",
       "      <td>1</td>\n",
       "    </tr>\n",
       "    <tr>\n",
       "      <td>3</td>\n",
       "      <td>[0, 0, 0, 0, 0, 0, 0, 0, 0, 0, 0, 0, 0, 0, 0, ...</td>\n",
       "      <td>4</td>\n",
       "    </tr>\n",
       "    <tr>\n",
       "      <td>4</td>\n",
       "      <td>[0, 0, 0, 0, 0, 0, 0, 0, 0, 0, 0, 0, 0, 0, 0, ...</td>\n",
       "      <td>0</td>\n",
       "    </tr>\n",
       "  </tbody>\n",
       "</table>\n",
       "</div>"
      ],
      "text/plain": [
       "                                             feature  label\n",
       "0  [0, 0, 0, 0, 0, 0, 0, 0, 0, 0, 0, 0, 0, 0, 0, ...      1\n",
       "1  [0, 0, 0, 0, 0, 0, 0, 0, 0, 0, 0, 0, 0, 0, 0, ...      0\n",
       "2  [0, 0, 0, 0, 0, 0, 0, 0, 0, 0, 0, 0, 0, 0, 0, ...      1\n",
       "3  [0, 0, 0, 0, 0, 0, 0, 0, 0, 0, 0, 0, 0, 0, 0, ...      4\n",
       "4  [0, 0, 0, 0, 0, 0, 0, 0, 0, 0, 0, 0, 0, 0, 0, ...      0"
      ]
     },
     "execution_count": 7,
     "metadata": {},
     "output_type": "execute_result"
    }
   ],
   "source": [
    "# read mnist csv file to a dataframe\n",
    "df = pd.read_csv('mnist_train.csv')\n",
    "\n",
    "# append feature column by merging all pixel columns\n",
    "df['feature'] = df.apply(lambda row: row.values[1:], axis=1)\n",
    "\n",
    "# only keep feature and label column\n",
    "df = df[['feature', 'label']]\n",
    "\n",
    "# display first 5 rows of the dataframe\n",
    "df.head()"
   ]
  },
  {
   "cell_type": "markdown",
   "metadata": {},
   "source": [
    "Plot the first 30 images"
   ]
  },
  {
   "cell_type": "code",
   "execution_count": 8,
   "metadata": {
    "ExecuteTime": {
     "end_time": "2019-11-18T04:01:28.615325Z",
     "start_time": "2019-11-18T04:01:26.894225Z"
    }
   },
   "outputs": [
    {
     "data": {
      "image/png": "[encoded data removed]",
      "text/plain": [
       "<Figure size 1080x180 with 30 Axes>"
      ]
     },
     "metadata": {
      "needs_background": "light"
     },
     "output_type": "display_data"
    }
   ],
   "source": [
    "plt.figure(figsize=(15, 2.5))\n",
    "for i, row in df.iloc[:30].iterrows():\n",
    "    x, y = row['feature'], row['label']\n",
    "    plt.subplot(2, 15, i + 1)\n",
    "    plt.imshow(x.reshape(28, 28), cmap='gray')\n",
    "    plt.axis('off')\n",
    "    plt.title(y)"
   ]
  },
  {
   "cell_type": "markdown",
   "metadata": {},
   "source": [
    "Extract the all samples labeled with digit $n$ and randomly separate the samples into equal-sized training and testing groups. **(10pt)**"
   ]
  },
  {
   "cell_type": "code",
   "execution_count": 9,
   "metadata": {
    "ExecuteTime": {
     "end_time": "2019-11-18T04:01:28.655770Z",
     "start_time": "2019-11-18T04:01:28.621295Z"
    }
   },
   "outputs": [],
   "source": [
    "def extract_and_split(df, d, test_size=0.5):\n",
    "    \"\"\"\n",
    "    extract the samples with given lables and randomly separate the samples into equal-sized training and testing groups, extend each vector to length 785 by appending a −1\n",
    "    Arguments:\n",
    "        df {dataframe} -- the dataframe of MNIST dataset\n",
    "        d {int} -- digit needs to be extracted, can be 0, 1, ..., 9\n",
    "        test_size {float} -- the fraction of testing set, default value is 0.5\n",
    "    Returns:\n",
    "        X_tr {numpy.ndarray} -- training set features, a matrix with 785 columns\n",
    "                                each row corresponds the feature of a sample\n",
    "        y_tr {numpy.ndarray} -- training set labels, 1d-array\n",
    "                                each element corresponds the label of a sample\n",
    "        X_te {numpy.ndarray} -- testing set features, a matrix with 785 columns \n",
    "                                each row corresponds the feature of a sample\n",
    "        y_te {numpy.ndarray} -- testing set labels, 1d-array\n",
    "                                each element corresponds the label of a sample\n",
    "    \"\"\"\n",
    "    digit = df[df.label == d]\n",
    "    X = digit.values[:,0]\n",
    "    y = digit.values[:,1]\n",
    "    inds0 = np.random.choice(X.shape[0],size=X.shape[0])\n",
    "    X = X[inds0]\n",
    "    y = y[inds0]\n",
    "    X_tr = np.stack((X[0:int(test_size*X.shape[0])]), axis=0)\n",
    "    X_te = np.stack((X[int(test_size*X.shape[0]):X.shape[0]]), axis=0)\n",
    "    y_tr = np.array(y[0:int(test_size*y.shape[0])])\n",
    "    y_te = np.array(y[int(test_size*y.shape[0]):y.shape[0]])\n",
    "    return X_tr, X_te, y_tr, y_te"
   ]
  },
  {
   "cell_type": "markdown",
   "metadata": {},
   "source": [
    "A useful preprocess function before you draw histogram.\n",
    "Sometimes your histogram becomes ugly because of the existence of outlier points.\n",
    "The function below drops the unwanted outlier points, please call this function before you pass your result to draw a histogram."
   ]
  },
  {
   "cell_type": "code",
   "execution_count": 10,
   "metadata": {
    "ExecuteTime": {
     "end_time": "2019-11-18T04:01:28.715110Z",
     "start_time": "2019-11-18T04:01:28.702239Z"
    }
   },
   "outputs": [],
   "source": [
    "def remove_outlier(x, thresh=3.5):\n",
    "    \"\"\"\n",
    "    returns points that are not outliers to make histogram prettier\n",
    "    reference: https://stackoverflow.com/questions/11882393/matplotlib-disregard-outliers-when-plotting/11886564\n",
    "    Arguments:\n",
    "        x {numpy.ndarray} -- 1d-array, points to be filtered\n",
    "        thresh {float} -- the modified z-score to use as a threshold. Observations with\n",
    "                          a modified z-score (based on the median absolute deviation) greater\n",
    "                          than this value will be classified as outliers.\n",
    "    Returns:\n",
    "        x_filtered {numpy.ndarray} -- 1d-array, filtered points after dropping outlier\n",
    "    \"\"\"\n",
    "    if len(x.shape) == 1: x = x[:,None]\n",
    "    median = np.median(x, axis=0)\n",
    "    diff = np.sqrt(((x - median)**2).sum(axis=-1))\n",
    "    modified_z_score = 0.6745 * diff / np.median(diff)\n",
    "    x_filtered = x[modified_z_score <= thresh]\n",
    "    return x_filtered"
   ]
  },
  {
   "cell_type": "markdown",
   "metadata": {},
   "source": [
    "Pairwise experiment for applying least-square to classify digit $a$ and digit $b$. \n",
    "\n",
    "Follow the given steps in the template and implement the function for pairwise experiment **(25pt)**"
   ]
  },
  {
   "cell_type": "code",
   "execution_count": 11,
   "metadata": {
    "ExecuteTime": {
     "end_time": "2019-11-18T04:01:28.764076Z",
     "start_time": "2019-11-18T04:01:28.721141Z"
    }
   },
   "outputs": [],
   "source": [
    "def mnist_pairwise_LS(df, a, b, test_size=0.5, verbose=False):\n",
    "    \"\"\"\n",
    "    Pairwise experiment for applying least-square to classify digit a and digit b\n",
    "    Arguments:\n",
    "        df {dataframe} -- the dataframe of MNIST dataset\n",
    "        a, b {int} -- digits to be classified\n",
    "        test_size {float} -- the fraction of testing set, default value is 0.5\n",
    "        verbose {bool} -- whether to print and plot results\n",
    "    Returns:\n",
    "        res {numpy.ndarray} -- numpy.array([traing error, testing error])\n",
    "    \"\"\"\n",
    "    # Find all samples labeled with digit a and split into train/test sets\n",
    "    Xa_tr, Xa_te, ya_tr, ya_te = extract_and_split(df, a, test_size)\n",
    "    # Find all samples labeled with digit b and split into train/test sets\n",
    "    Xb_tr, Xb_te, yb_tr, yb_te = extract_and_split(df, b, test_size)\n",
    "    ya_tr = [-1 for i in ya_tr]\n",
    "    yb_tr = [1 for i in yb_tr]\n",
    "    ya_te = [-1 for i in ya_te]\n",
    "    yb_te = [1 for i in yb_te]\n",
    "    \n",
    "    # Construct the full training set\n",
    "    X_tr = np.concatenate((Xa_tr, Xb_tr), axis=0)\n",
    "    X_tr = np.append(X_tr, -1*np.ones((X_tr.shape[0],1)), 1)\n",
    "    y_tr = np.concatenate((ya_tr, yb_tr), axis=0)\n",
    "    # Construct the full testing set\n",
    "    X_te = np.concatenate((Xa_te, Xb_te), axis=0)\n",
    "    X_te = np.append(X_te, -1*np.ones((X_te.shape[0],1)), 1)\n",
    "    y_te = np.concatenate((ya_te, yb_te), axis=0)\n",
    "    \n",
    "    # Run least-square on training set\n",
    "    z_hat = solve_linear_LS(X_tr.astype(float),y_tr.astype(float))\n",
    "\n",
    "    # Compute estimation and misclassification on training set\n",
    "    mask = list(map(lambda i: 1 if i >= 0 else -1, (X_tr @ z_hat)))\n",
    "    y_hat_tr = np.array(mask, dtype = int).flatten()\n",
    "    err_tr = np.sum(np.array([y_hat_tr != y_tr]))/len(y_tr)\n",
    "\n",
    "    # Compute estimation and misclassification on training set\n",
    "    y_t = X_te @ z_hat\n",
    "    y_hat_te= list(map(lambda i: -1 if i < 0 else 1, y_t))\n",
    "    y_hat_te = np.array(y_hat_te, dtype=int).flatten()\n",
    "    err_te = np.sum(np.array([y_hat_te != y_te]))/len(y_te)\n",
    "    \n",
    "    if verbose:\n",
    "        print('Pairwise experiment, mapping {0} to -1, mapping {1} to 1'.format(a, b))\n",
    "        print('training error = {0:.2f}%, testing error = {1:.2f}%'.format(100 * err_tr, 100 * err_te))\n",
    "        # Compute confusion matrix\n",
    "        cm = confusion_matrix(y_te.astype(int), y_hat_te.astype(int))\n",
    "        print('Confusion matrix:\\n {0}'.format(cm))\n",
    "        # Compute the histogram of the function output separately for each class \n",
    "        # Then plot the two histograms together\n",
    "        ya_te_hat, yb_te_hat = np.split(y_t, [len(ya_te)])\n",
    "        output = [remove_outlier(ya_te_hat), remove_outlier(yb_te_hat)]\n",
    "        plt.figure(figsize=(8, 4))\n",
    "        plt.hist(output, bins=50)\n",
    "    \n",
    "    res = np.array([err_tr, err_te])\n",
    "    return res"
   ]
  },
  {
   "cell_type": "markdown",
   "metadata": {},
   "source": [
    "Pairwise experiment for applying least-square to classify digit $0$ and digit $1$."
   ]
  },
  {
   "cell_type": "code",
   "execution_count": 12,
   "metadata": {
    "ExecuteTime": {
     "end_time": "2019-11-18T04:01:30.553104Z",
     "start_time": "2019-11-18T04:01:28.768266Z"
    }
   },
   "outputs": [
    {
     "name": "stdout",
     "output_type": "stream",
     "text": [
      "Pairwise experiment, mapping 0 to -1, mapping 1 to 1\n",
      "training error = 0.25%, testing error = 0.79%\n",
      "Confusion matrix:\n",
      " [[2053   13]\n",
      " [  22 2320]]\n"
     ]
    },
    {
     "data": {
      "text/plain": [
       "array([0.00249546, 0.00794011])"
      ]
     },
     "execution_count": 12,
     "metadata": {},
     "output_type": "execute_result"
    },
    {
     "data": {
      "image/png": "[encoded data removed]",
      "text/plain": [
       "<Figure size 576x288 with 1 Axes>"
      ]
     },
     "metadata": {
      "needs_background": "light"
     },
     "output_type": "display_data"
    }
   ],
   "source": [
    "mnist_pairwise_LS(df, 0, 1, verbose=True)"
   ]
  },
  {
   "cell_type": "markdown",
   "metadata": {},
   "source": [
    "### Problem 3.3"
   ]
  },
  {
   "cell_type": "markdown",
   "metadata": {},
   "source": [
    "Repeat the above problem for all pairs of digits. For each pair of digits, report the classification error rates for the training and testing sets. The error rates can be formatted nicely into a triangular matrix. **(15pt)**\n",
    "\n",
    "For example, you can put all testing error in the lower triangle and all training error in the upper triangle.\n",
    "You may run the classification several times to get an average error rate over different sample split."
   ]
  },
  {
   "cell_type": "code",
   "execution_count": 13,
   "metadata": {
    "ExecuteTime": {
     "end_time": "2019-11-18T04:02:06.642711Z",
     "start_time": "2019-11-18T04:01:30.561525Z"
    }
   },
   "outputs": [
    {
     "name": "stdout",
     "output_type": "stream",
     "text": [
      "[[0.   0.2  0.89 4.1  0.17 0.43 0.65 0.16 0.51 0.43]\n",
      " [0.86 0.   0.81 0.35 0.09 0.47 0.14 0.44 1.94 0.23]\n",
      " [1.85 2.23 0.   1.6  0.73 1.08 0.79 0.84 1.8  0.6 ]\n",
      " [5.56 1.68 3.42 0.   0.28 2.5  0.12 0.75 3.07 0.91]\n",
      " [0.73 0.75 2.06 1.38 0.   0.41 0.27 0.87 0.37 2.3 ]\n",
      " [1.36 1.53 2.66 5.18 1.63 0.   1.49 0.2  2.29 0.65]\n",
      " [1.62 1.04 2.6  1.48 1.46 3.33 0.   0.02 0.76 0.12]\n",
      " [0.89 1.41 2.05 1.94 2.12 1.29 0.75 0.   0.5  2.59]\n",
      " [1.44 3.34 3.52 5.75 1.16 4.86 2.02 1.94 0.   1.04]\n",
      " [1.13 1.13 1.96 3.04 3.78 1.75 0.96 4.75 3.03 0.  ]]\n"
     ]
    },
    {
     "data": {
      "image/png": "[encoded data removed]",
      "text/plain": [
       "<Figure size 576x576 with 1 Axes>"
      ]
     },
     "metadata": {
      "needs_background": "light"
     },
     "output_type": "display_data"
    }
   ],
   "source": [
    "from tqdm import tqdm_notebook as tqdm\n",
    "num_trial, err_matrix = 1, np.zeros((10, 10))\n",
    "\n",
    "# Fill the err_matrix, for all a < b\n",
    "# err_matrix[a, b] = training error between digits a and b\n",
    "# err_matrix[b, a] = testing error between digits a and b\n",
    "for i in range (10):\n",
    "    for j in range(i):\n",
    "        err = mnist_pairwise_LS(df,j,i)\n",
    "        err_matrix[j,i] = err[0]\n",
    "        err_matrix[i,j] = err[1]\n",
    "\n",
    "plt.figure(figsize=(8, 8))\n",
    "plt.imshow(err_matrix)\n",
    "plt.title('upper triangle: training error; lower triangle: testing error');\n",
    "print(np.round(err_matrix*100, 2))"
   ]
  },
  {
   "cell_type": "markdown",
   "metadata": {},
   "source": [
    "### Problem 3.4"
   ]
  },
  {
   "cell_type": "markdown",
   "metadata": {},
   "source": [
    "But, what about a multi-class classifier for MNIST digits? \n",
    "For multi-class linear classification with d classes, one standard approach is to learn a linear mapping $f \\colon \\mathbb{R}^n \\to \\mathbb{R}^d $ where the “$y$”-value for the $i$-th class is chosen to be the standard basis vector $ \\underline{e}_i \\in \\mathbb{R}^d $. \n",
    "This is sometimes called one-hot encoding. \n",
    "Using the same $A$ matrix as before and a matrix $Y$, defined by $Y_{i,j}$ if observation $i$ in class $j$ and $Y_{i,j} = 0$ otherwise, we can solve for the coefficient matrix $Z \\in \\mathbb{R}^d$ coefficients .\n",
    "Then, the classifier maps a vector $\\underline{x}$ to class $i$ if the $i$-th element of $Z^T \\underline{x}$ is the largest element in the vector. \n",
    "\n",
    "Follow the given steps in the template and implement the function for multi-class classification experiment **(30pt)**"
   ]
  },
  {
   "cell_type": "code",
   "execution_count": 14,
   "metadata": {
    "ExecuteTime": {
     "end_time": "2019-11-18T04:02:06.652167Z",
     "start_time": "2019-11-18T04:02:06.645712Z"
    }
   },
   "outputs": [],
   "source": [
    "def get_one_hot(targets, nb_classes):\n",
    "        res = np.eye(nb_classes)[np.array(targets, dtype = int).reshape(-1)]\n",
    "        return res.reshape(list(targets.shape)+[nb_classes])\n",
    "        #return np.squeeze(np.eye(nb_classes)[targets.reshape(-1)])"
   ]
  },
  {
   "cell_type": "code",
   "execution_count": 15,
   "metadata": {
    "ExecuteTime": {
     "end_time": "2019-11-18T04:02:06.694195Z",
     "start_time": "2019-11-18T04:02:06.660078Z"
    }
   },
   "outputs": [],
   "source": [
    "def mnist_onehot_LS(df, test_size=0.5):\n",
    "    \"\"\"\n",
    "    Experiment for applying least-square to classify all digits using one-hot encoding\n",
    "    Arguments:\n",
    "        df {dataframe} -- the dataframe of MNIST dataset\n",
    "        test_size {float} -- the fraction of testing set, default value is 0.5\n",
    "    Returns:\n",
    "        res {numpy.ndarray} -- numpy.array([traing error, testing error])\n",
    "    \"\"\"\n",
    "    inds0 = np.arange(len(df))\n",
    "    np.random.shuffle(inds0)\n",
    "    df = df.iloc[inds0]\n",
    "    \n",
    "    # Split into training/testing set\n",
    "    tr = df.iloc[0:int(test_size*len(df))]\n",
    "    te = df.iloc[int(test_size*len(df)):len(df)]\n",
    "   \n",
    "    # Construct the training set\n",
    "    X_tr = np.stack(tr.values[:,0], axis=0)\n",
    "    X_tr = np.append(X_tr, -1*np.ones((X_tr.shape[0],1)), 1)\n",
    "    y_tr = np.array(tr.values[:,1])\n",
    "    \n",
    "    # Construct the testing set\n",
    "    X_te = np.stack(te.values[:,0], axis=0)\n",
    "    X_te = np.append(X_te, -1*np.ones((X_te.shape[0],1)), 1)\n",
    "    y_te = np.array(te.values[:,1])\n",
    "    \n",
    "    # Apply one-hot encoding to training labels\n",
    "    Y = get_one_hot(y_tr, 10)\n",
    "    \n",
    "    # Run least-square on training set\n",
    "    Z = solve_linear_LS(X_tr, Y)\n",
    "    \n",
    "    # Compute estimation and misclassification on training set\n",
    "    y_hat_tr = X_tr @ Z\n",
    "    err_tr = np.sum(np.array([np.argmax(y_hat_tr, axis=1) != y_tr]))/len(y_tr)\n",
    "    \n",
    "    # Compute estimation and misclassification on training set\n",
    "    y_hat_te = X_te @ Z\n",
    "    err_te = np.sum(np.array([np.argmax(y_hat_te, axis=1) != y_te]))/len(y_te)\n",
    "    \n",
    "    print('training error = {0:.2f}%, testing error = {1:.2f}%'.format(100 * err_tr, 100 * err_te))\n",
    "    # Compute confusion matrix\n",
    "    cm = confusion_matrix(y_te.astype(int), np.argmax(y_hat_te, axis=1).astype(int))\n",
    "    print('Confusion matrix:\\n {0}'.format(cm))\n",
    "    return np.array([err_tr, err_te])"
   ]
  },
  {
   "cell_type": "code",
   "execution_count": 16,
   "metadata": {
    "ExecuteTime": {
     "end_time": "2019-11-18T04:02:09.879839Z",
     "start_time": "2019-11-18T04:02:06.725416Z"
    }
   },
   "outputs": [
    {
     "name": "stdout",
     "output_type": "stream",
     "text": [
      "training error = 13.24%, testing error = 15.83%\n",
      "Confusion matrix:\n",
      " [[1993    3    5   13   10   14   27    0   19    4]\n",
      " [   1 2240   14    8    4   14    6    3   22    1]\n",
      " [  43   92 1582   71   52    3  101   40   69    8]\n",
      " [  12   55   86 1819    6   56   19   39   54   51]\n",
      " [   6   39   20    2 1778   22   16    5   20  108]\n",
      " [  79   33   10  173   59 1353   67   19  102   45]\n",
      " [  47   33   24    0   29   28 1864    0   18    2]\n",
      " [  23   75   16   20   68    2    4 1881    6  111]\n",
      " [  22  165   21   90   42   79   21    6 1523   36]\n",
      " [  31   21    2   55  168    7    1  176   26 1642]]\n"
     ]
    },
    {
     "data": {
      "text/plain": [
       "array([0.13238095, 0.15833333])"
      ]
     },
     "execution_count": 16,
     "metadata": {},
     "output_type": "execute_result"
    }
   ],
   "source": [
    "mnist_onehot_LS(df)"
   ]
  }
 ],
 "metadata": {
  "hide_input": false,
  "kernelspec": {
   "display_name": "Python 3",
   "language": "python",
   "name": "python3"
  },
  "language_info": {
   "codemirror_mode": {
    "name": "ipython",
    "version": 3
   },
   "file_extension": ".py",
   "mimetype": "text/x-python",
   "name": "python",
   "nbconvert_exporter": "python",
   "pygments_lexer": "ipython3",
   "version": "3.7.3"
  },
  "toc": {
   "base_numbering": 1,
   "nav_menu": {},
   "number_sections": true,
   "sideBar": true,
   "skip_h1_title": false,
   "title_cell": "Table of Contents",
   "title_sidebar": "Contents",
   "toc_cell": false,
   "toc_position": {},
   "toc_section_display": true,
   "toc_window_display": false
  },
  "varInspector": {
   "cols": {
    "lenName": 16,
    "lenType": 16,
    "lenVar": 40
   },
   "kernels_config": {
    "python": {
     "delete_cmd_postfix": "",
     "delete_cmd_prefix": "del ",
     "library": "var_list.py",
     "varRefreshCmd": "print(var_dic_list())"
    },
    "r": {
     "delete_cmd_postfix": ") ",
     "delete_cmd_prefix": "rm(",
     "library": "var_list.r",
     "varRefreshCmd": "cat(var_dic_list()) "
    }
   },
   "position": {
    "height": "309px",
    "left": "1550px",
    "right": "20px",
    "top": "120px",
    "width": "350px"
   },
   "types_to_exclude": [
    "module",
    "function",
    "builtin_function_or_method",
    "instance",
    "_Feature"
   ],
   "window_display": false
  }
 },
 "nbformat": 4,
 "nbformat_minor": 2
}
