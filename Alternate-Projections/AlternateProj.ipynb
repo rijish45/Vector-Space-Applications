{
 "cells": [
  {
   "cell_type": "code",
   "execution_count": 3,
   "metadata": {
    "ExecuteTime": {
     "end_time": "2018-11-24T20:25:25.023369Z",
     "start_time": "2018-11-24T20:25:25.017077Z"
    }
   },
   "outputs": [],
   "source": [
    "import numpy as np\n",
    "import matplotlib.pyplot as plt\n",
    "from numpy.random import rand, randn\n",
    "from scipy.linalg import inv, svd\n",
    "from scipy.optimize import linprog\n",
    "import pandas as pd\n",
    "from sklearn.metrics import confusion_matrix\n",
    "from tqdm import tqdm_notebook as tqdm\n",
    "\n",
    "def null_space(A, rcond=None):\n",
    "    u, s, vh = svd(A, full_matrices=True)\n",
    "    M, N = u.shape[0], vh.shape[1]\n",
    "    if rcond is None:\n",
    "        rcond = np.finfo(s.dtype).eps * max(M, N)\n",
    "    tol = np.amax(s) * rcond\n",
    "    num = np.sum(s > tol, dtype=int)\n",
    "    Q = vh[num:,:].T.conj()\n",
    "    return Q"
   ]
  },
  {
   "cell_type": "markdown",
   "metadata": {},
   "source": [
    "### Exercise 1"
   ]
  },
  {
   "cell_type": "markdown",
   "metadata": {},
   "source": [
    "Let $U$ and $W$ be subspaces of $\\mathbb{R}^5$ that are spanned, respectively, by the columns of the matrices $A$ and $B$ (shown below). \n",
    "Write a function `altproj(A,B,v0,n)` that returns $\\underline{v}_{2n}$ after $2n$ steps of alternating projection onto $U$ and $W$ starting from $\\underline{v}_0$. \n",
    "Use this function to find the orthogonal projection of $\\underline{v}_0$ (shown below) onto $ U \\cap W $. How large should $n$ be chosen so that the projection is correct to 4 decimal places (e.g., absolute error at most 0.0001 in each coordinate)?\n",
    "$$\n",
    "A = \n",
    "\\begin{bmatrix}\n",
    " 3 & 2 & 3 \\\\ 1 & 5 & 7 \\\\ 4 & 11 & 13 \\\\ 1 & 17 & 19 \\\\ 5 & 23 & 29\n",
    "\\end{bmatrix}, \\qquad\n",
    "B = \n",
    "\\begin{bmatrix}\n",
    " 1 & 1 & 2.5 \\\\ 2 & 0 & 6 \\\\ 2 & 1 & 12 \\\\ 2 & 0 & 18 \\\\ 6 & -3 & 26\n",
    "\\end{bmatrix}, \\qquad\n",
    "\\underline{v}_0 =\n",
    "\\begin{bmatrix}\n",
    " 1 \\\\2 \\\\ 3 \\\\ 4 \\\\ 5\n",
    "\\end{bmatrix}\n",
    "$$\n",
    "To find the intersection of $U$ and $W$, we note that the following Python snippet returns a matrix whose columns span $ U \\cap W $\n",
    "```\n",
    "basis_UintW = np.hstack([A, B]) @ null_space(np.hstack([A, -B])) \n",
    "```"
   ]
  },
  {
   "cell_type": "code",
   "execution_count": 4,
   "metadata": {
    "ExecuteTime": {
     "end_time": "2018-11-24T20:17:16.923662Z",
     "start_time": "2018-11-24T20:17:16.919299Z"
    }
   },
   "outputs": [],
   "source": [
    "def altproj(A, B, v0, n):\n",
    "    \"\"\"\n",
    "    Arguments:\n",
    "        A {numpy.ndarray} -- matrix whose column span is vector space U\n",
    "        B {numpy.ndarray} -- matrix whose column span is vector space W\n",
    "        v0 {numpy.ndarray} -- initialization vector\n",
    "        n {int} -- number of sweeps for alternating projection\n",
    "    Returns:\n",
    "        v {numpy.ndarray} -- the output after 2n steps of alternating projection\n",
    "        err {numpy.ndarray} -- the error after each full pass\n",
    "    \"\"\"\n",
    "    # Construct projection matrix\n",
    "    PU = A@inv(A.T@A)@A.T\n",
    "    PW = B@inv(B.T@B)@B.T\n",
    "    # Compute the exact solution\n",
    "    basis_UintW = np.hstack([A, B]) @ null_space(np.hstack([A, -B]))\n",
    "    P_UintW = basis_UintW@inv(basis_UintW.T@basis_UintW)@basis_UintW.T\n",
    "    v_star = P_UintW @ v0\n",
    "    # Apply n sweeps of alternating projection\n",
    "    v, err = v0, np.zeros(n)\n",
    "    for t in tqdm(range(2 * n), total=2 * n, leave=False):\n",
    "        if t % 2 ==0:\n",
    "            v = PU @ v\n",
    "        else:\n",
    "            v = PW @ v\n",
    "        if (t + 1) % 2 == 0:\n",
    "            if np.max(v_star-v) < 0: \n",
    "                err[t // 2] = 0\n",
    "            else:\n",
    "                err[t // 2] = np.abs(np.max((v_star-v)))\n",
    "    return v, err"
   ]
  },
  {
   "cell_type": "code",
   "execution_count": 5,
   "metadata": {
    "ExecuteTime": {
     "end_time": "2018-11-24T20:17:18.677058Z",
     "start_time": "2018-11-24T20:17:17.065164Z"
    }
   },
   "outputs": [
    {
     "data": {
      "application/vnd.jupyter.widget-view+json": {
       "model_id": "",
       "version_major": 2,
       "version_minor": 0
      },
      "text/plain": [
       "HBox(children=(IntProgress(value=0, max=40), HTML(value='')))"
      ]
     },
     "metadata": {},
     "output_type": "display_data"
    },
    {
     "name": "stdout",
     "output_type": "stream",
     "text": [
      "\r"
     ]
    },
    {
     "data": {
      "text/plain": [
       "[<matplotlib.lines.Line2D at 0x211bf707ac8>]"
      ]
     },
     "execution_count": 5,
     "metadata": {},
     "output_type": "execute_result"
    },
    {
     "data": {
      "image/png": "[encoded data removed]",
      "text/plain": [
       "<Figure size 576x432 with 1 Axes>"
      ]
     },
     "metadata": {},
     "output_type": "display_data"
    }
   ],
   "source": [
    "A = np.array([[3, 1, 4, 1, 5], [2, 5, 11, 17, 23], [3, 7, 13, 19, 29]]).T\n",
    "B = np.array([[1, 2, 2, 2, 6], [1, 0, 1, 0, -3], [2.5, 6, 12, 18, 26]]).T\n",
    "v0 = np.array([1, 2, 3, 4, 5])\n",
    "n = 20\n",
    "v, err = altproj(A, B, v0, n)\n",
    "\n",
    "plt.figure(figsize=(8, 6))\n",
    "plt.semilogy(np.arange(1, n + 1), err)"
   ]
  },
  {
   "cell_type": "markdown",
   "metadata": {},
   "source": [
    "### Exercise 2"
   ]
  },
  {
   "cell_type": "markdown",
   "metadata": {},
   "source": [
    "Write a function `kaczmarz(A,b,I)` that returns a matrix $X$ with $I$ columns corresponding\n",
    "to the Kaczmarz iteration after $i = 1, 2, ..., I$ full passes through the Kaczmarz algorithm\n",
    "for the matrix $A$ and right-hand side $\\underline{b}$ (e.g., one full pass equals $m$ steps). \n",
    "Use this function to find the minimum-norm solution of linear system $A \\underline{x} = \\underline{b}$ for\n",
    "$$\n",
    "A = \n",
    "\\begin{bmatrix}\n",
    " 2 & 5 & 11 & 17 & 23 \\\\ 3 & 7 & 13 & 19 & 29\n",
    "\\end{bmatrix}, \\qquad\n",
    "\\underline{b} =\n",
    "\\begin{bmatrix}\n",
    " 228 \\\\ 227\n",
    "\\end{bmatrix}\n",
    "$$\n",
    "Plot the error (on a log scale) versus the number of full passes for $I = 500$."
   ]
  },
  {
   "cell_type": "code",
   "execution_count": 6,
   "metadata": {
    "ExecuteTime": {
     "end_time": "2018-11-24T20:26:43.696408Z",
     "start_time": "2018-11-24T20:26:43.666458Z"
    }
   },
   "outputs": [],
   "source": [
    "def kaczmarz(A, b, I):\n",
    "    \"\"\"\n",
    "    Arguments:\n",
    "        A {numpy.ndarray} -- matrix defines the LHS of linear equation\n",
    "        b {numpy.ndarray} -- vector defines the RHS of linear equation\n",
    "        I {int} -- number of full passes through the Kaczmarz algorithm\n",
    "    Returns:\n",
    "        X {numpy.ndarray} -- the output of all I full passes\n",
    "        err {numpy.ndarray} -- the error after each full pass\n",
    "    \"\"\"\n",
    "    m, n = A.shape\n",
    "    v, X, err = np.zeros(n), np.zeros((n, I)), np.zeros(I)\n",
    "    for i in tqdm(range(I * m), total=I * m, leave=False):\n",
    "        ai = A[i % m]\n",
    "        bi = b[i % m]\n",
    "        v = v - ((np.dot(ai,v) - bi)/np.dot(ai,ai))*ai\n",
    "        if (i + 1) % m == 0:\n",
    "            if np.max(b - A@v) < 0: \n",
    "                err[i // m] = 0\n",
    "            else:\n",
    "                err[i // m] = np.abs(np.max(b - A@v))\n",
    "            X[:, i // m] = v\n",
    "    return X, err"
   ]
  },
  {
   "cell_type": "code",
   "execution_count": 7,
   "metadata": {
    "ExecuteTime": {
     "end_time": "2018-11-24T20:26:45.384446Z",
     "start_time": "2018-11-24T20:26:44.227830Z"
    }
   },
   "outputs": [
    {
     "data": {
      "application/vnd.jupyter.widget-view+json": {
       "model_id": "",
       "version_major": 2,
       "version_minor": 0
      },
      "text/plain": [
       "HBox(children=(IntProgress(value=0, max=1000), HTML(value='')))"
      ]
     },
     "metadata": {},
     "output_type": "display_data"
    },
    {
     "name": "stdout",
     "output_type": "stream",
     "text": [
      "\r"
     ]
    },
    {
     "data": {
      "text/plain": [
       "[<matplotlib.lines.Line2D at 0x211c0143128>]"
      ]
     },
     "execution_count": 7,
     "metadata": {},
     "output_type": "execute_result"
    },
    {
     "data": {
      "image/png": "[encoded data removed]",
      "text/plain": [
       "<Figure size 576x432 with 1 Axes>"
      ]
     },
     "metadata": {},
     "output_type": "display_data"
    }
   ],
   "source": [
    "A = np.array([[2, 5, 11, 17, 23], [3, 7, 13, 19, 29]])\n",
    "b = np.array([228, 227])\n",
    "I = 500\n",
    "X, err = kaczmarz(A, b, I)\n",
    "\n",
    "plt.figure(figsize=(8, 6))\n",
    "plt.semilogy(np.arange(1, I + 1), err)"
   ]
  },
  {
   "cell_type": "markdown",
   "metadata": {},
   "source": [
    "### Exercise 3"
   ]
  },
  {
   "cell_type": "markdown",
   "metadata": {},
   "source": [
    "Repeat the experiment with $I = 100$ for a random system defined by `A = randn(500,1000)`\n",
    "and `b = A @ randn(1000)`. \n",
    "Compare the iterative solution with the true minimum-norm solution \n",
    "$ \\hat{\\underline{x}} = A^H {(A A^H)}^{-1} \\underline{b} $."
   ]
  },
  {
   "cell_type": "code",
   "execution_count": 8,
   "metadata": {
    "ExecuteTime": {
     "end_time": "2018-11-24T20:18:17.012640Z",
     "start_time": "2018-11-24T20:18:14.991772Z"
    }
   },
   "outputs": [
    {
     "data": {
      "application/vnd.jupyter.widget-view+json": {
       "model_id": "",
       "version_major": 2,
       "version_minor": 0
      },
      "text/plain": [
       "HBox(children=(IntProgress(value=0, max=50000), HTML(value='')))"
      ]
     },
     "metadata": {},
     "output_type": "display_data"
    },
    {
     "name": "stdout",
     "output_type": "stream",
     "text": [
      "\r"
     ]
    },
    {
     "data": {
      "image/png": "[encoded data removed]",
      "text/plain": [
       "<Figure size 576x432 with 1 Axes>"
      ]
     },
     "metadata": {},
     "output_type": "display_data"
    }
   ],
   "source": [
    "A = randn(500, 1000)\n",
    "b = A @ randn(1000)\n",
    "I = 100\n",
    "X, err = kaczmarz(A, b, I)\n",
    "\n",
    "plt.figure(figsize=(8, 6))\n",
    "plt.semilogy(np.arange(1, I + 1), err)\n",
    "\n",
    "x_hat = A.T @ inv(A @ A.T) @ b\n",
    "x_hat_err = max(np.absolute(x_hat - X[:,-1]))\n",
    "plt.title(f'norm of difference between xhat and Kaczmarz is {np.linalg.norm(x_hat - X[:, -1]):.2e}');"
   ]
  },
  {
   "cell_type": "markdown",
   "metadata": {},
   "source": [
    "### Exercise 4"
   ]
  },
  {
   "cell_type": "markdown",
   "metadata": {},
   "source": [
    "Consider the linear program\n",
    "$$\n",
    "\\min ~ \\underline{c}^T \\underline{x}\n",
    "\\quad \\textrm{subject to} \\quad\n",
    "A \\underline{x} \\ge \\underline{b}, \\quad \\underline{x} \\ge 0\n",
    "$$\n",
    "with\n",
    "$$\n",
    "\\underline{c} = \n",
    "\\begin{bmatrix}\n",
    "    3 \\\\ -1 \\\\ 2\n",
    "\\end{bmatrix}, \\quad\n",
    "A = \n",
    "\\begin{bmatrix}\n",
    "    2 & -1 & 1 \\\\ 1 & 0 & 2 \\\\ -7 & 4 & -6\n",
    "\\end{bmatrix}, \\quad\n",
    "\\underline{b} = \n",
    "\\begin{bmatrix}\n",
    "    -1 \\\\ 2 \\\\ 1\n",
    "\\end{bmatrix}, \\quad\n",
    "$$\n",
    "Let $p^*$ denote the optimum value of this program.\n",
    "Then, $p^* \\le 0$ is satisfied if and only if there is a non-negative $\\underline{x} = (x_1, x_2, x_3)^T$ satisfying\n",
    "$$\n",
    "\\begin{align}\n",
    "2x_1 - x_2 + x_3 &\\ge -1 \\\\\n",
    "x_1 + 2x_3 &\\ge 2 \\\\\n",
    "-7x_1 + 4x_2 - 6x_3 &\\ge 1 \\\\\n",
    "-3x_1 + x_2 - 2x_3 &\\ge 0\n",
    "\\end{align}\n",
    "$$\n",
    "where the last inequality restricts the value of the program to be at most $0$.\n",
    "One can find the optimum value `p` and an optimizer `x` with the command \n",
    "```\n",
    "res = linprog(c, A_ub=-A, b_ub=-b, bounds=[(0, None)] * c.size, method=’interior-point’)\n",
    "x, p = res.x, res.fun\n",
    "```\n",
    "\n",
    "Starting from $\\underline{x}_0 = 0$, write a program that uses alternating projections onto half spaces (see (6)) to find a non-negative vector satisfying the above inequalities. \n",
    "\n",
    "Warning: don’t forget to also project onto the half spaces defined by the non-negativity constraints $ x_1 \\ge 0, x_2 \\ge 0, x_3 \\ge 0 $. \n",
    "\n",
    "Use the result to find a vector that satisfies all the inequalities. \n",
    "How many iterations are required so that the\n",
    "absolute error is at most 0.0001 in each coordinate?"
   ]
  },
  {
   "cell_type": "code",
   "execution_count": 9,
   "metadata": {
    "ExecuteTime": {
     "end_time": "2018-11-24T20:19:53.786613Z",
     "start_time": "2018-11-24T20:19:53.782624Z"
    }
   },
   "outputs": [],
   "source": [
    "def proj_HS(v, w, c):\n",
    "    \"\"\"\n",
    "    Projection on half space defined by {v| <v,w> = c}\n",
    "    Arguments:\n",
    "        v {numpy.ndarray} -- vector to be projected\n",
    "        w {numpy.ndarray} -- norm vector of hyperplane\n",
    "        c {float} -- intercept\n",
    "    Returns:\n",
    "        p {numpy.ndarray} -- orthogonal projection of x on half-space <v|w> >= c\n",
    "    \"\"\"\n",
    "    if np.dot(w,v) < c:\n",
    "        p = (np.dot(w,v) - c)/np.dot(w,w)\n",
    "        p = p * w\n",
    "        p = v - p\n",
    "        return p\n",
    "    else:\n",
    "        return v\n",
    "    \n",
    "def proj_NB(v, a, v0):\n",
    "    \"\"\"\n",
    "    Projection on norm ball defined by {v| <v-v0|v-v0> <= a^2}\n",
    "    Arguments:\n",
    "        v {numpy.ndarray} -- vector to be projected\n",
    "        a {float} -- radius of the norm ball\n",
    "        v0 {numpy.ndarray} -- center of the norm ball\n",
    "    Returns:\n",
    "        p {numpy.ndarray} -- orthogonal projection of x on norm ball <v-v0|v-v0> <= a^2\n",
    "    \"\"\"\n",
    "    if dot(v-v0,v-v0) <= a^2:\n",
    "        return v\n",
    "    else:\n",
    "        p = dot(v-v0,v-v0)\n",
    "        p = a*(v-v0)/p\n",
    "        p = p + v0\n",
    "        return p"
   ]
  },
  {
   "cell_type": "code",
   "execution_count": 10,
   "metadata": {
    "ExecuteTime": {
     "end_time": "2018-11-24T20:19:59.208991Z",
     "start_time": "2018-11-24T20:19:59.205210Z"
    }
   },
   "outputs": [],
   "source": [
    "def lp_altproj(A, b, I):\n",
    "    \"\"\"\n",
    "    Find a feasible solution for A v >= b using alternating projection\n",
    "    with every entry of v0 obeying Uniform[0,1]\n",
    "    Arguments:\n",
    "        A {numpy.ndarray} -- matrix defines the LHS of linear equation\n",
    "        b {numpy.ndarray} -- vector defines the RHS of linear equation\n",
    "        I {int} -- number of full passes through the alternating projection\n",
    "    Returns:\n",
    "        v {numpy.ndarray} -- the output after I full passes\n",
    "        err {numpy.ndarray} -- the error after each full pass\n",
    "    \"\"\"\n",
    "    m, n = A.shape\n",
    "    # Apply I sweeps of alternating projection\n",
    "    v, err = np.zeros(n), np.zeros(I)\n",
    "    for t in tqdm(range(I * m), total=I*m, leave=False):\n",
    "        ai = A[t % m]\n",
    "        bi = b[t % m]\n",
    "        v = proj_HS(v,ai,bi)\n",
    "        if (t + 1) % m == 0:\n",
    "            if np.max(b - A@v) > 0: \n",
    "                err[t // m] = np.abs(np.max(b - A@v))\n",
    "    return v, err"
   ]
  },
  {
   "cell_type": "code",
   "execution_count": 11,
   "metadata": {
    "ExecuteTime": {
     "end_time": "2018-11-24T20:20:10.791150Z",
     "start_time": "2018-11-24T20:20:10.576764Z"
    }
   },
   "outputs": [
    {
     "name": "stdout",
     "output_type": "stream",
     "text": [
      "     con: array([], dtype=float64)\n",
      "     fun: 1.8272050539280826e-12\n",
      " message: 'Optimization terminated successfully.'\n",
      "     nit: 5\n",
      "   slack: array([8.82960371e-13, 3.84137167e-13, 1.00000000e+00])\n",
      "  status: 0\n",
      " success: True\n",
      "       x: array([1.50428214e-12, 2.00000000e+00, 1.00000000e+00])\n"
     ]
    },
    {
     "data": {
      "application/vnd.jupyter.widget-view+json": {
       "model_id": "",
       "version_major": 2,
       "version_minor": 0
      },
      "text/plain": [
       "HBox(children=(IntProgress(value=0, max=3500), HTML(value='')))"
      ]
     },
     "metadata": {},
     "output_type": "display_data"
    },
    {
     "name": "stdout",
     "output_type": "stream",
     "text": [
      "False True\n"
     ]
    },
    {
     "data": {
      "text/plain": [
       "array([1.62790697e-07, 2.00000051e+00, 9.99999512e-01])"
      ]
     },
     "execution_count": 11,
     "metadata": {},
     "output_type": "execute_result"
    },
    {
     "data": {
      "image/png": "[encoded data removed]",
      "text/plain": [
       "<Figure size 576x432 with 1 Axes>"
      ]
     },
     "metadata": {},
     "output_type": "display_data"
    }
   ],
   "source": [
    "c = np.array([3, -1, 2])\n",
    "A = np.array([[2, -1, 1], [1, 0, 2], [-7, 4, -6]])\n",
    "b = np.array([-1, 2, 1])\n",
    "\n",
    "res = linprog(c, A_ub=-A, b_ub=-b, bounds=[(0, None)] * c.size, method='interior-point')\n",
    "print(res)\n",
    "\n",
    "I = 500\n",
    "# Do not forget constraint xi >= 0\n",
    "A1 = np.vstack([A, np.eye(3), -c])\n",
    "b1 = np.hstack([b, np.zeros(3), 0])\n",
    "\n",
    "x, err = lp_altproj(A1, b1 + 1e-6, I)\n",
    "\n",
    "plt.figure(figsize=(8, 6))\n",
    "plt.semilogy(np.arange(1, I + 1), err)\n",
    "\n",
    "print(np.all(A @ x - b > 0), np.all(x > 0))\n",
    "x"
   ]
  },
  {
   "cell_type": "markdown",
   "metadata": {
    "ExecuteTime": {
     "end_time": "2018-11-12T22:49:23.170816Z",
     "start_time": "2018-11-12T22:49:23.166457Z"
    }
   },
   "source": [
    "### Exercise 5"
   ]
  },
  {
   "cell_type": "markdown",
   "metadata": {},
   "source": [
    "\"\n",
    "Consider the “random” convex optimization problem defined by\n",
    "```\n",
    "c = randn(1000)\n",
    "A = np.vstack([-np.ones((1, 1000)), randn(500, 1000)])\n",
    "b = np.concatenate([[-1000], A[1:] @ rand(1000)])\n",
    "```\n",
    "Modify $A$ and $b$ (by adding one row and one element) so that your function can be used to prove that the value of the convex optimization problem, in (3), is at most −1000. Try using `I = 1000` passes\n",
    "through all 501 inequality constraints.\n",
    "This type of iteration typically terminates with an “almost feasible” $\\underline{x}$. \n",
    "To find a strictly feasible point, try running the same algorithm with the argument $ \\underline{b} + \\epsilon $ for some small $ \\epsilon > 0 $  (e.g., try $ \\epsilon = {10}^{-6} $).\n",
    "Then, the resulting $ \\underline{x} $ can satisfy `np.all(A @ x - b > 0)`"
   ]
  },
  {
   "cell_type": "code",
   "execution_count": 12,
   "metadata": {
    "ExecuteTime": {
     "end_time": "2018-11-24T20:21:09.250431Z",
     "start_time": "2018-11-24T20:20:59.120217Z"
    }
   },
   "outputs": [
    {
     "data": {
      "application/vnd.jupyter.widget-view+json": {
       "model_id": "",
       "version_major": 2,
       "version_minor": 0
      },
      "text/plain": [
       "HBox(children=(IntProgress(value=0, max=1502000), HTML(value='')))"
      ]
     },
     "metadata": {},
     "output_type": "display_data"
    },
    {
     "name": "stdout",
     "output_type": "stream",
     "text": [
      "True True [-5.182115]\n",
      "-1198.5327823524615\n"
     ]
    },
    {
     "data": {
      "image/png": "[encoded data removed]",
      "text/plain": [
       "<Figure size 576x432 with 1 Axes>"
      ]
     },
     "metadata": {},
     "output_type": "display_data"
    }
   ],
   "source": [
    "np.random.seed(0)\n",
    "c = randn(1000)\n",
    "A = np.vstack([-np.ones((1, 1000)), randn(500, 1000)])\n",
    "b = np.concatenate([[-1000], A[1:] @ rand(1000)])\n",
    "\n",
    "I, ep = 1000, 1e-6\n",
    "# Do not forget constraint xi >= 0, and c^T x <= -1000\n",
    "A1 = np.vstack([A, np.eye(1000), -c])\n",
    "b1 = np.hstack([b, np.zeros(1000), 0])\n",
    "x, err = lp_altproj(A1, b1 + ep, I)\n",
    "print(np.all(A @ x - b > 0), np.all(x > 0), c.reshape(1, -1) @ x)\n",
    "\n",
    "plt.figure(figsize=(8, 6))\n",
    "plt.semilogy(np.arange(1, I + 1), err)\n",
    "\n",
    "res = linprog(c, A_ub=-A, b_ub=-b, bounds=[(0, None)] * 1000, method='interior-point')\n",
    "print(res.fun)"
   ]
  },
  {
   "cell_type": "markdown",
   "metadata": {
    "ExecuteTime": {
     "end_time": "2018-11-13T06:16:11.588730Z",
     "start_time": "2018-11-13T06:16:11.584859Z"
    }
   },
   "source": [
    "### Exercise 6"
   ]
  },
  {
   "cell_type": "code",
   "execution_count": 13,
   "metadata": {
    "ExecuteTime": {
     "end_time": "2018-11-24T20:22:08.029985Z",
     "start_time": "2018-11-24T20:22:01.650228Z"
    }
   },
   "outputs": [],
   "source": [
    "# read mnist csv file to a dataframe\n",
    "df = pd.read_csv('mnist_train.csv')\n",
    "# append feature column by merging all pixel columns\n",
    "df['feature'] = df.apply(lambda row: row.values[1:], axis=1)\n",
    "# only keep feature and label column\n",
    "df = df[['feature', 'label']]"
   ]
  },
  {
   "cell_type": "markdown",
   "metadata": {},
   "source": [
    "Repeat the MNIST training exercise from the Least-Squares Handout using the training method described above. \n",
    "First, extract the indices of all the 0’s and randomly separate the samples into equal-sized training and testing groups. \n",
    "Second, do the same for the 1’s. Now, extend each vector to length 785 by appending a −1. This will allow the system to learn a general hyperplane separation."
   ]
  },
  {
   "cell_type": "markdown",
   "metadata": {},
   "source": [
    "Extract the all samples labeled with digit $n$ and randomly separate the samples into equal-sized training and testing groups."
   ]
  },
  {
   "cell_type": "code",
   "execution_count": 14,
   "metadata": {
    "ExecuteTime": {
     "end_time": "2018-11-24T20:22:10.531696Z",
     "start_time": "2018-11-24T20:22:10.526710Z"
    }
   },
   "outputs": [],
   "source": [
    "def extract_and_split(df, d, test_size=0.5):\n",
    "    \"\"\"\n",
    "    Extract the samples with given lables and randomly separate the samples into equal-sized training and testing groups, extend each vector to length 785 by appending a −1\n",
    "    Arguments:\n",
    "        df {dataframe} -- the dataframe of MNIST dataset\n",
    "        d {int} -- digit needs to be extracted, can be 0, 1, ..., 9\n",
    "        test_size {float} -- the fraction of testing set, default value is 0.5\n",
    "    Returns:\n",
    "        X_tr {numpy.ndarray} -- training set features, a matrix with 785 columns\n",
    "                                each row corresponds the feature of a sample\n",
    "        y_tr {numpy.ndarray} -- training set labels, 1d-array\n",
    "                                each element corresponds the label of a sample\n",
    "        X_te {numpy.ndarray} -- testing set features, a matrix with 785 columns \n",
    "                                each row corresponds the feature of a sample\n",
    "        y_te {numpy.ndarray} -- testing set labels, 1d-array\n",
    "                                each element corresponds the label of a sample\n",
    "    \"\"\"\n",
    "    digit = df[df.label == d]\n",
    "    X = digit.values[:,0]\n",
    "    y = digit.values[:,1]\n",
    "    inds0 = np.random.choice(X.shape[0],size=X.shape[0])\n",
    "    X = X[inds0]\n",
    "    y = y[inds0]\n",
    "    X_tr = np.stack((X[0:int(test_size*X.shape[0])]), axis=0)\n",
    "    X_te = np.stack((X[int(test_size*X.shape[0]):X.shape[0]]), axis=0)\n",
    "    y_tr = np.array(y[0:int(test_size*y.shape[0])])\n",
    "    y_te = np.array(y[int(test_size*y.shape[0]):y.shape[0]])\n",
    "    return X_tr, X_te, y_tr, y_te    "
   ]
  },
  {
   "cell_type": "code",
   "execution_count": 15,
   "metadata": {
    "ExecuteTime": {
     "end_time": "2018-11-24T20:22:13.793444Z",
     "start_time": "2018-11-24T20:22:13.789712Z"
    }
   },
   "outputs": [],
   "source": [
    "def remove_outlier(x, thresh=3.5):\n",
    "    \"\"\"\n",
    "    Returns points that are not outliers to make histogram prettier\n",
    "    reference: https://stackoverflow.com/questions/11882393/matplotlib-disregard-outliers-when-plotting/11886564\n",
    "    Arguments:\n",
    "        x {numpy.ndarray} -- 1d-array, points to be filtered\n",
    "        thresh {float} -- the modified z-score to use as a threshold. Observations with\n",
    "                          a modified z-score (based on the median absolute deviation) greater\n",
    "                          than this value will be classified as outliers.\n",
    "    Returns:\n",
    "        x_filtered {numpy.ndarray} -- 1d-array, filtered points after dropping outlier\n",
    "    \"\"\"\n",
    "    if len(x.shape) == 1: x = x[:,None]\n",
    "    median = np.median(x, axis=0)\n",
    "    diff = np.sqrt(((x - median)**2).sum(axis=-1))\n",
    "    modified_z_score = 0.6745 * diff / np.median(diff)\n",
    "    x_filtered = x[modified_z_score <= thresh]\n",
    "    return x_filtered"
   ]
  },
  {
   "cell_type": "markdown",
   "metadata": {
    "ExecuteTime": {
     "end_time": "2018-11-13T22:44:38.846226Z",
     "start_time": "2018-11-13T22:44:32.717788Z"
    }
   },
   "source": [
    "Next, use alternating projections to design a linear classifier to separate for 0’s and 1’s. For the resulting linear function, report the classification error rate and confusion matrices for the both the training and test sets. Also, for the test set, compute the histogram of the function output separately for each class and then plot the two histograms together. \n",
    "This shows easy or hard it is to separate the two classes.\n",
    "\n",
    "Depending on your randomized separation into training and test sets, the training data may or may not be linearly separable. \n",
    "Comment on what happens to the test set performance when the error rate does converge to zero for the training set."
   ]
  },
  {
   "cell_type": "markdown",
   "metadata": {},
   "source": [
    "Pairwise experiment for applying least-square to classify digit $a$ and digit $b$. \n",
    "\n",
    "Follow the given steps in the template and implement the function for pairwise experiment"
   ]
  },
  {
   "cell_type": "code",
   "execution_count": 16,
   "metadata": {
    "ExecuteTime": {
     "end_time": "2018-11-24T20:22:20.120985Z",
     "start_time": "2018-11-24T20:22:20.111606Z"
    }
   },
   "outputs": [],
   "source": [
    "def mnist_pairwise_altproj(df, a, b, solver, test_size=0.5, verbose=False):\n",
    "    \"\"\"\n",
    "    Pairwise experiment for applying alternating projection to classify digit a and digit b\n",
    "    Arguments:\n",
    "        df {dataframe} -- the dataframe of MNIST dataset\n",
    "        a, b {int} -- digits to be classified\n",
    "        test_size {float} -- the fraction of testing set, default value is 0.5\n",
    "        solver {function} -- function to compute linear classifier\n",
    "        verbose {bool} -- whether to print and plot results\n",
    "    Returns:\n",
    "        z_hat {numpy.ndarray} -- coefficients for linear classifier\n",
    "        res {numpy.ndarray} -- numpy.array([traing error, testing error])\n",
    "    \"\"\"\n",
    "    # Find all samples labeled with digit a and split into train/test sets\n",
    "    Xa_tr, Xa_te, ya_tr, ya_te = extract_and_split(df, a, test_size)\n",
    "    # Find all samples labeled with digit b and split into train/test sets\n",
    "    Xb_tr, Xb_te, yb_tr, yb_te = extract_and_split(df, b, test_size)\n",
    "    ya_tr = [-1 for i in ya_tr]\n",
    "    yb_tr = [1 for i in yb_tr]\n",
    "    ya_te = [-1 for i in ya_te]\n",
    "    yb_te = [1 for i in yb_te]\n",
    "    \n",
    "    # Construct the full training set\n",
    "    X_tr = np.concatenate((Xa_tr, Xb_tr), axis=0)\n",
    "    X_tr = np.append(X_tr, -1*np.ones((X_tr.shape[0],1)), 1)\n",
    "    y_tr = np.concatenate((ya_tr, yb_tr), axis=0)\n",
    "    # Construct the full testing set\n",
    "    X_te = np.concatenate((Xa_te, Xb_te), axis=0)\n",
    "    X_te = np.append(X_te, -1*np.ones((X_te.shape[0],1)), 1)\n",
    "    y_te = np.concatenate((ya_te, yb_te), axis=0)\n",
    "    \n",
    "    # Run solver on training set to get linear classifier\n",
    "    A_tilde = np.multiply(y_tr[:, np.newaxis], X_tr)\n",
    "    z_hat, err = solver(A_tilde, np.ones(len(A_tilde))) \n",
    "    \n",
    "    # Compute estimation and misclassification on training set\n",
    "    mask = list(map(lambda i: 1 if i >= 0 else -1, (X_tr @ z_hat)))\n",
    "    y_hat_tr = np.array(mask, dtype = int).flatten()\n",
    "    err_tr = np.sum(np.array([y_hat_tr != y_tr]))/len(y_tr)\n",
    "\n",
    "    # Compute estimation and misclassification on training set\n",
    "    y_t = X_te @ z_hat\n",
    "    y_hat_te= list(map(lambda i: -1 if i < 0 else 1, y_t))\n",
    "    y_hat_te = np.array(y_hat_te, dtype=int).flatten()\n",
    "    err_te = np.sum(np.array([y_hat_te != y_te]))/len(y_te)\n",
    "    \n",
    "    if verbose:\n",
    "        print('Pairwise experiment, mapping {0} to -1, mapping {1} to 1'.format(a, b))\n",
    "        print('training error = {0:.2f}%, testing error = {1:.2f}%'.format(100 * err_tr, 100 * err_te))\n",
    "        \n",
    "        # Compute confusion matrix for training set\n",
    "        cm_tr = confusion_matrix(y_tr.astype(int), y_hat_tr.astype(int))\n",
    "        print('Training set confusion matrix:\\n {0}'.format(cm_tr))\n",
    "        \n",
    "        # Compute confusion matrix for testing set\n",
    "        cm_te = confusion_matrix(y_te.astype(int), y_hat_te.astype(int))\n",
    "        print('Testing set confusion matrix:\\n {0}'.format(cm_te))\n",
    "\n",
    "        # Compute the histogram of the function output separately for each class \n",
    "        # Then plot the two histograms together\n",
    "        ya_te_hat, yb_te_hat = np.split(y_t, [len(ya_te)])\n",
    "        output = [remove_outlier(ya_te_hat), remove_outlier(yb_te_hat)]\n",
    "        plt.figure(figsize=(8, 4))\n",
    "        plt.hist(output, bins=50)\n",
    "    \n",
    "    res = np.array([err_tr, err_te])\n",
    "    return z_hat, res"
   ]
  },
  {
   "cell_type": "code",
   "execution_count": 17,
   "metadata": {
    "ExecuteTime": {
     "end_time": "2018-11-24T20:22:31.960345Z",
     "start_time": "2018-11-24T20:22:29.976629Z"
    }
   },
   "outputs": [
    {
     "data": {
      "application/vnd.jupyter.widget-view+json": {
       "model_id": "",
       "version_major": 2,
       "version_minor": 0
      },
      "text/plain": [
       "HBox(children=(IntProgress(value=0, max=440800), HTML(value='')))"
      ]
     },
     "metadata": {},
     "output_type": "display_data"
    },
    {
     "name": "stdout",
     "output_type": "stream",
     "text": [
      "Pairwise experiment, mapping 0 to -1, mapping 1 to 1\n",
      "training error = 0.00%, testing error = 0.07%\n",
      "Training set confusion matrix:\n",
      " [[2066    0]\n",
      " [   0 2342]]\n",
      "Testing set confusion matrix:\n",
      " [[2066    0]\n",
      " [   3 2339]]\n"
     ]
    },
    {
     "data": {
      "image/png": "[encoded data removed]",
      "text/plain": [
       "<Figure size 576x288 with 1 Axes>"
      ]
     },
     "metadata": {},
     "output_type": "display_data"
    }
   ],
   "source": [
    "solver = lambda A, b: lp_altproj(A, b + 1e-6, 100)\n",
    "z_hat, res = mnist_pairwise_altproj(df, 0, 1, solver, verbose=True)"
   ]
  },
  {
   "cell_type": "markdown",
   "metadata": {},
   "source": [
    "### Exercise 7"
   ]
  },
  {
   "cell_type": "markdown",
   "metadata": {},
   "source": [
    "Describe how this approach should be extended to multi-class linear classification\n",
    "(parameterized by $ Z \\in \\mathbb{R}^{n \\times d} $) where the classifier maps a vector $\\underline{v}$ to class $j$ if the $j$-th element\n",
    "of $ Z^T \\underline{v} $ is the largest element in the vector. \n",
    "Use the implied alternating-projection solution to design a multi-class classifier for MNIST."
   ]
  },
  {
   "cell_type": "code",
   "execution_count": 18,
   "metadata": {},
   "outputs": [],
   "source": [
    "def get_one_hot(targets, nb_classes):\n",
    "        res = np.eye(nb_classes)[np.array(targets, dtype = int).reshape(-1)]\n",
    "        return res.reshape(list(targets.shape)+[nb_classes])"
   ]
  },
  {
   "cell_type": "code",
   "execution_count": 19,
   "metadata": {
    "ExecuteTime": {
     "end_time": "2018-11-24T20:23:12.010973Z",
     "start_time": "2018-11-24T20:23:11.996941Z"
    },
    "code_folding": []
   },
   "outputs": [],
   "source": [
    "def mnist_multiclass_altproj(df, solver, test_size=0.5):\n",
    "    \"\"\"\n",
    "    Experiment for applying least-square to classify all digits using one-hot encoding\n",
    "    Arguments:\n",
    "        df {dataframe} -- the dataframe of MNIST dataset\n",
    "        solver {function} -- function to compute linear classifier\n",
    "        test_size {float} -- the fraction of testing set, default value is 0.5\n",
    "    Returns:\n",
    "        Z {numpy.ndarray} -- coefficients for linear classifier\n",
    "        res {numpy.ndarray} -- numpy.array([traing error, testing error])\n",
    "    \"\"\"\n",
    "    inds0 = np.arange(len(df))\n",
    "    np.random.shuffle(inds0)\n",
    "    df = df.iloc[inds0]\n",
    "    \n",
    "    # Split into training/testing set\n",
    "    tr = df.iloc[0:int(test_size*len(df))]\n",
    "    te = df.iloc[int(test_size*len(df)):len(df)]\n",
    "   \n",
    "    # Construct the training set\n",
    "    X_tr = np.stack(tr.values[:,0], axis=0)\n",
    "    X_tr = np.append(X_tr, -1*np.ones((X_tr.shape[0],1)), 1)\n",
    "    y_tr = np.array(tr.values[:,1])\n",
    "    \n",
    "    # Construct the testing set\n",
    "    X_te = np.stack(te.values[:,0], axis=0)\n",
    "    X_te = np.append(X_te, -1*np.ones((X_te.shape[0],1)), 1)\n",
    "    y_te = np.array(te.values[:,1])\n",
    "    \n",
    "    # Run solver on training set to get linear classifier\n",
    "    A_tilde = np.zeros((X_tr.shape[0]*9, X_tr.shape[1]*10))\n",
    "    for i in range(X_tr.shape[0]):\n",
    "        for j in range(10):\n",
    "            if j < y_tr[i]:\n",
    "                A_tilde[9*i + j, y_tr[i]*785:(y_tr[i]+1)*785] = X_tr[i]\n",
    "                A_tilde[9*i + j, j*785:(j+1)*785] = -1*X_tr[i]          \n",
    "            if j > y_tr[i]:\n",
    "                A_tilde[9*i + j-1, y_tr[i]*785:(y_tr[i]+1)*785] = X_tr[i]\n",
    "                A_tilde[9*i + j-1, (j)*785:(j+1)*785] = -1*X_tr[i]          \n",
    "    b_tilde = np.zeros(len(A_tilde))\n",
    "    Z, err = solver(A_tilde, b_tilde)\n",
    "    # Reshape Z as a 785 x 10 matrix\n",
    "    Z = np.reshape(Z, (10, 785))\n",
    "    Z = Z.T\n",
    "    \n",
    "    \n",
    "    # Compute estimation and misclassification on training set\n",
    "    y_hat_tr = X_tr @ Z\n",
    "    err_tr = np.sum(np.array([np.argmax(y_hat_tr, axis=1) != y_tr]))/len(y_tr)\n",
    "    \n",
    "    # Compute estimation and misclassification on training set\n",
    "    y_hat_te = X_te @ Z\n",
    "    err_te = np.sum(np.array([np.argmax(y_hat_te, axis=1) != y_te]))/len(y_te)\n",
    "    \n",
    "    print('training error = {0:.2f}%, testing error = {1:.2f}%'.format(100 * err_tr, 100 * err_te))\n",
    "    # Compute confusion matrix for training set\n",
    "    cm_tr = confusion_matrix(y_tr.astype(int), np.argmax(y_hat_tr, axis=1).astype(int))\n",
    "    print('Training set confusion matrix:\\n {0}'.format(cm_tr))\n",
    "    # Compute confusion matrix for testing set\n",
    "    cm_te = confusion_matrix(y_te.astype(int), np.argmax(y_hat_te, axis=1).astype(int))\n",
    "    print('Testing set confusion matrix:\\n {0}'.format(cm_te))\n",
    "    \n",
    "    res = np.array([err_tr, err_te])\n",
    "    return Z, res"
   ]
  },
  {
   "cell_type": "code",
   "execution_count": 20,
   "metadata": {
    "ExecuteTime": {
     "end_time": "2018-11-19T22:00:50.719775Z",
     "start_time": "2018-11-19T21:57:06.809844Z"
    }
   },
   "outputs": [
    {
     "data": {
      "application/vnd.jupyter.widget-view+json": {
       "model_id": "",
       "version_major": 2,
       "version_minor": 0
      },
      "text/plain": [
       "HBox(children=(IntProgress(value=0, max=18900000), HTML(value='')))"
      ]
     },
     "metadata": {},
     "output_type": "display_data"
    },
    {
     "name": "stdout",
     "output_type": "stream",
     "text": [
      "training error = 14.89%, testing error = 18.07%\n",
      "Training set confusion matrix:\n",
      " [[1907    0    3    2    2  167    4    2    3    4]\n",
      " [   0 2263    6    2    0   18    0    1   12    4]\n",
      " [   5   20 1788   22   20  115   16   23   38   11]\n",
      " [   3   11   59 1510    1  546    4   15   39   14]\n",
      " [   1    7    7    2 1841   86   14   13    5   38]\n",
      " [   1    1    5    5    0 1881    0    0    5    2]\n",
      " [   6    1    1    0    5  238 1837    1    2    1]\n",
      " [   0    3    8    3    3   41    1 2121    9   40]\n",
      " [   6   25   28   24    2  881    3    4 1052    8]\n",
      " [   0    7    2    9   55  189    0  121   15 1674]]\n",
      "Testing set confusion matrix:\n",
      " [[1777    0    7    2    1  208   30    6    4    3]\n",
      " [   0 2278   12    3    5   33    2    7   35    3]\n",
      " [  21   47 1734   26   30  126   35   46   41   13]\n",
      " [   5   14   78 1424    0  525    9   28   39   27]\n",
      " [   6   13   12    5 1815   75   35   11   14   72]\n",
      " [  23    7    7   21   12 1777   19    5   15    9]\n",
      " [  14   10   14    0   29  235 1733    3    7    0]\n",
      " [   5   14   19    8   27   42    1 1986   14   56]\n",
      " [  14   45   44   37   19  789   18   10 1031   23]\n",
      " [   8    6    6   16   86  171    2  157   13 1651]]\n"
     ]
    }
   ],
   "source": [
    "solver = lambda A, b: lp_altproj(A, b + 1e-6, 100)\n",
    "Z, res = mnist_multiclass_altproj(df, solver)"
   ]
  },
  {
   "cell_type": "markdown",
   "metadata": {},
   "source": [
    "##### Exercise 8"
   ]
  },
  {
   "cell_type": "markdown",
   "metadata": {},
   "source": [
    "Let $ V = \\mathbb{R}^2 $ and consider the orthogonal projection of $ \\underline{u} = (1, -2) $ onto the intersection of\n",
    "$$\n",
    "\\begin{align}\n",
    "    C_1 &= \\left\\{ \\underline{v} \\in V \\,\\mid\\, v_2 \\ge 0 \\right\\} \\\\\n",
    "    C_2 &= \\left\\{ \\underline{v} \\in V \\,\\mid\\, v_1^2 + \\left(v_2 - \\frac{\\sqrt{3}}{2}\\right)^2 \\le 1 \\right\\}\n",
    "\\end{align}\n",
    "$$\n",
    "Draw a picture illustrating the algernating projections (without Dykstra's modification) defined by: $ P_{C_2}(P_{C_1}(\\underline{u})) $ and $ P_{C_1}(P_{C_2}(\\underline{u})) $.\n",
    "Does either give the desired result $ P_{C_1 \\cap C_2}(\\underline{u}) $?\n",
    "Now, try Dykstra's algorithm using both orders and 4 iterations.\n",
    "Are these approaching $ P_{C_1 \\cap C_2}(\\underline{u}) $?"
   ]
  },
  {
   "cell_type": "code",
   "execution_count": null,
   "metadata": {
    "ExecuteTime": {
     "end_time": "2018-11-19T22:12:02.423263Z",
     "start_time": "2018-11-19T22:12:02.130209Z"
    }
   },
   "outputs": [],
   "source": [
    "P_C1 = \n",
    "P_C2 = \n",
    "P = [P_C1, P_C2]\n",
    "\n",
    "# Alternating Projection P_{C_2}(P_{C_1}(u))\n",
    "us1 = [np.array([1.0, -2.0]), np.array([1.0, -2.0])]\n",
    "while True:\n",
    "    u = \n",
    "    if np.linalg.norm(us1[-2] - u) >= 1e-4:\n",
    "        us1.append(u)\n",
    "    else:\n",
    "        break\n",
    "        \n",
    "# Alternating Projection P_{C_1}(P_{C_2}(u))\n",
    "us2 = [np.array([1.0, -2.0]), np.array([1.0, -2.0])]\n",
    "while True:\n",
    "    u = \n",
    "    if np.linalg.norm(us2[-2] - u) >= 1e-4:\n",
    "        us2.append(u)\n",
    "    else:\n",
    "        break\n",
    "\n",
    "# Dykstra's Algorithm\n",
    "vs, w = [np.array([1.0, -2.0]), np.array([1.0, -2.0])], np.zeros((2, 2))\n",
    "while True:\n",
    "    v = \n",
    "    w = \n",
    "    if np.linalg.norm(vs[-2] - v) >= 1e-4:\n",
    "        vs.append(v)\n",
    "    else:\n",
    "        break\n",
    "\n",
    "plt.figure(figsize=(15, 7))\n",
    "plt.subplot(1, 2, 1)\n",
    "# Plot half space part\n",
    "x, y = np.linspace(-0.5, 0.5, 101), np.zeros(101)\n",
    "plt.plot(x, y, color='yellow', linewidth=2)\n",
    "# Plot unit ball part\n",
    "x = np.linspace(-1, 1, 101)\n",
    "y = np.sqrt(3)/2 + np.sqrt(1 - x**2)\n",
    "plt.plot(x, y, color='yellow', linewidth=2)\n",
    "x = np.linspace(-1, -0.5, 101)\n",
    "y = np.sqrt(3)/2 - np.sqrt(1 - x**2)\n",
    "plt.plot(x, y, color='yellow', linewidth=2)\n",
    "x = np.linspace(0.5, 1, 101)\n",
    "y = np.linspace(0.5, 1, 101)\n",
    "plt.plot(x, np.sqrt(3)/2 - np.sqrt(1 - y**2), color='yellow', linewidth=2)\n",
    "plt.scatter(*np.array(us1).T, c='red', marker='+', alpha=0.5, label=r'$P_{C_2}(P_{C_1}(u))$')\n",
    "plt.scatter(*np.array(us2).T, c='blue', marker='x', alpha=0.5, label=r'$P_{C_1}(P_{C_2}(u))$')\n",
    "plt.scatter(*np.array(vs).T, c='green', marker='1', alpha=0.5, label='Dykstra')\n",
    "plt.axis('equal')\n",
    "plt.legend()\n",
    "plt.title('Trajectories of different methods')\n",
    "\n",
    "plt.subplot(1, 2, 2)\n",
    "# Plot half space part\n",
    "x, y = np.linspace(-0.5, 0.5, 101), np.zeros(101)\n",
    "plt.plot(x, y, color='yellow', linewidth=2)\n",
    "# Plot unit ball part\n",
    "x = np.linspace(-1, 1, 101)\n",
    "y = np.sqrt(3)/2 + np.sqrt(1 - x**2)\n",
    "plt.plot(x, y, color='yellow', linewidth=2)\n",
    "x = np.linspace(-1, -0.5, 101)\n",
    "y = np.sqrt(3)/2 - np.sqrt(1 - x**2)\n",
    "plt.plot(x, y, color='yellow', linewidth=2)\n",
    "x = np.linspace(0.5, 1, 101)\n",
    "y = np.linspace(0.5, 1, 101)\n",
    "plt.plot(x, np.sqrt(3)/2 - np.sqrt(1 - y**2), color='yellow', linewidth=2)\n",
    "size = 300 * np.linspace(0.2, 1, len(us1))\n",
    "plt.scatter(*np.array(us1).T, c='red', marker='+', s=size, alpha=0.5, label=r'$P_{C_2}(P_{C_1}(u))$')\n",
    "plt.scatter(us1[-1][0], us1[-1][1], s=300, facecolors='none', edgecolors='red', linewidth=2)\n",
    "size = 300 * np.linspace(0.2, 1, len(us2))\n",
    "plt.scatter(*np.array(us2).T, c='blue', marker='x', s=size, alpha=0.5, label=r'$P_{C_1}(P_{C_2}(u))$')\n",
    "plt.scatter(us2[-1][0], us2[-1][1], s=300, facecolors='none', edgecolors='blue', linewidth=2)\n",
    "size = 300 * np.linspace(0.2, 1, len(vs))\n",
    "plt.scatter(*np.array(vs).T, c='green', marker='1', s=size, alpha=0.5, label='Dykstra')\n",
    "plt.scatter(vs[-1][0], vs[-1][1], s=300, facecolors='none', edgecolors='green', linewidth=2)\n",
    "plt.xlim([0.25, 1.05])\n",
    "plt.ylim([-0.35, 0.45])\n",
    "plt.legend()\n",
    "plt.title('Zoom-in trajectories')"
   ]
  },
  {
   "cell_type": "code",
   "execution_count": null,
   "metadata": {},
   "outputs": [],
   "source": []
  }
 ],
 "metadata": {
  "hide_input": false,
  "kernelspec": {
   "display_name": "Python 3",
   "language": "python",
   "name": "python3"
  },
  "language_info": {
   "codemirror_mode": {
    "name": "ipython",
    "version": 3
   },
   "file_extension": ".py",
   "mimetype": "text/x-python",
   "name": "python",
   "nbconvert_exporter": "python",
   "pygments_lexer": "ipython3",
   "version": "3.6.6"
  },
  "varInspector": {
   "cols": {
    "lenName": 16,
    "lenType": 16,
    "lenVar": 40
   },
   "kernels_config": {
    "python": {
     "delete_cmd_postfix": "",
     "delete_cmd_prefix": "del ",
     "library": "var_list.py",
     "varRefreshCmd": "print(var_dic_list())"
    },
    "r": {
     "delete_cmd_postfix": ") ",
     "delete_cmd_prefix": "rm(",
     "library": "var_list.r",
     "varRefreshCmd": "cat(var_dic_list()) "
    }
   },
   "position": {
    "height": "361px",
    "left": "1068px",
    "right": "20px",
    "top": "120px",
    "width": "350px"
   },
   "types_to_exclude": [
    "module",
    "function",
    "builtin_function_or_method",
    "instance",
    "_Feature"
   ],
   "window_display": false
  }
 },
 "nbformat": 4,
 "nbformat_minor": 2
}
